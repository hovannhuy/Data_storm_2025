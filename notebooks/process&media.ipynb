{
  "nbformat": 4,
  "nbformat_minor": 0,
  "metadata": {
    "colab": {
      "provenance": []
    },
    "kernelspec": {
      "name": "python3",
      "display_name": "Python 3"
    },
    "language_info": {
      "name": "python"
    }
  },
  "cells": [
    {
      "cell_type": "code",
      "source": [
        "from google.colab import drive\n",
        "drive.mount('/content/drive')"
      ],
      "metadata": {
        "colab": {
          "base_uri": "https://localhost:8080/"
        },
        "id": "2UufK87lD0Sk",
        "outputId": "5f33f308-2503-4516-a533-889843d51462"
      },
      "execution_count": 3,
      "outputs": [
        {
          "output_type": "stream",
          "name": "stdout",
          "text": [
            "Drive already mounted at /content/drive; to attempt to forcibly remount, call drive.mount(\"/content/drive\", force_remount=True).\n"
          ]
        }
      ]
    },
    {
      "cell_type": "code",
      "source": [
        "!pip install mediapipe\n",
        "!pip install argparse\n",
        "!pip install pathlib\n",
        "!pip install tqdm\n",
        "!pip install cv2\n",
        "!pip install AdvancedFeatureExtractor"
      ],
      "metadata": {
        "colab": {
          "base_uri": "https://localhost:8080/",
          "height": 686
        },
        "collapsed": true,
        "id": "rPIIK2r5EV2z",
        "outputId": "b4491c61-2d6e-4ee9-c1b7-460eb531eccb"
      },
      "execution_count": null,
      "outputs": [
        {
          "output_type": "stream",
          "name": "stdout",
          "text": [
            "Requirement already satisfied: mediapipe in /usr/local/lib/python3.12/dist-packages (0.10.21)\n",
            "Requirement already satisfied: absl-py in /usr/local/lib/python3.12/dist-packages (from mediapipe) (1.4.0)\n",
            "Requirement already satisfied: attrs>=19.1.0 in /usr/local/lib/python3.12/dist-packages (from mediapipe) (25.4.0)\n",
            "Requirement already satisfied: flatbuffers>=2.0 in /usr/local/lib/python3.12/dist-packages (from mediapipe) (25.9.23)\n",
            "Requirement already satisfied: jax in /usr/local/lib/python3.12/dist-packages (from mediapipe) (0.5.3)\n",
            "Requirement already satisfied: jaxlib in /usr/local/lib/python3.12/dist-packages (from mediapipe) (0.5.3)\n",
            "Requirement already satisfied: matplotlib in /usr/local/lib/python3.12/dist-packages (from mediapipe) (3.10.0)\n",
            "Requirement already satisfied: numpy<2 in /usr/local/lib/python3.12/dist-packages (from mediapipe) (1.26.4)\n",
            "Requirement already satisfied: opencv-contrib-python in /usr/local/lib/python3.12/dist-packages (from mediapipe) (4.11.0.86)\n",
            "Requirement already satisfied: protobuf<5,>=4.25.3 in /usr/local/lib/python3.12/dist-packages (from mediapipe) (4.25.8)\n",
            "Requirement already satisfied: sounddevice>=0.4.4 in /usr/local/lib/python3.12/dist-packages (from mediapipe) (0.5.2)\n",
            "Requirement already satisfied: sentencepiece in /usr/local/lib/python3.12/dist-packages (from mediapipe) (0.2.1)\n",
            "Requirement already satisfied: CFFI>=1.0 in /usr/local/lib/python3.12/dist-packages (from sounddevice>=0.4.4->mediapipe) (2.0.0)\n",
            "Requirement already satisfied: ml_dtypes>=0.4.0 in /usr/local/lib/python3.12/dist-packages (from jax->mediapipe) (0.5.3)\n",
            "Requirement already satisfied: opt_einsum in /usr/local/lib/python3.12/dist-packages (from jax->mediapipe) (3.4.0)\n",
            "Requirement already satisfied: scipy>=1.11.1 in /usr/local/lib/python3.12/dist-packages (from jax->mediapipe) (1.16.2)\n",
            "Requirement already satisfied: contourpy>=1.0.1 in /usr/local/lib/python3.12/dist-packages (from matplotlib->mediapipe) (1.3.3)\n",
            "Requirement already satisfied: cycler>=0.10 in /usr/local/lib/python3.12/dist-packages (from matplotlib->mediapipe) (0.12.1)\n",
            "Requirement already satisfied: fonttools>=4.22.0 in /usr/local/lib/python3.12/dist-packages (from matplotlib->mediapipe) (4.60.1)\n",
            "Requirement already satisfied: kiwisolver>=1.3.1 in /usr/local/lib/python3.12/dist-packages (from matplotlib->mediapipe) (1.4.9)\n",
            "Requirement already satisfied: packaging>=20.0 in /usr/local/lib/python3.12/dist-packages (from matplotlib->mediapipe) (25.0)\n",
            "Requirement already satisfied: pillow>=8 in /usr/local/lib/python3.12/dist-packages (from matplotlib->mediapipe) (11.3.0)\n",
            "Requirement already satisfied: pyparsing>=2.3.1 in /usr/local/lib/python3.12/dist-packages (from matplotlib->mediapipe) (3.2.5)\n",
            "Requirement already satisfied: python-dateutil>=2.7 in /usr/local/lib/python3.12/dist-packages (from matplotlib->mediapipe) (2.9.0.post0)\n",
            "Requirement already satisfied: pycparser in /usr/local/lib/python3.12/dist-packages (from CFFI>=1.0->sounddevice>=0.4.4->mediapipe) (2.23)\n",
            "Requirement already satisfied: six>=1.5 in /usr/local/lib/python3.12/dist-packages (from python-dateutil>=2.7->matplotlib->mediapipe) (1.17.0)\n",
            "Collecting argparse\n",
            "  Using cached argparse-1.4.0-py2.py3-none-any.whl.metadata (2.8 kB)\n",
            "Using cached argparse-1.4.0-py2.py3-none-any.whl (23 kB)\n",
            "Installing collected packages: argparse\n",
            "Successfully installed argparse-1.4.0\n"
          ]
        },
        {
          "output_type": "display_data",
          "data": {
            "application/vnd.colab-display-data+json": {
              "pip_warning": {
                "packages": [
                  "argparse"
                ]
              },
              "id": "3e0a8a9ad20e4c7a82336b6b8ee30b93"
            }
          },
          "metadata": {}
        },
        {
          "output_type": "stream",
          "name": "stdout",
          "text": [
            "Requirement already satisfied: pathlib in /usr/local/lib/python3.12/dist-packages (1.0.1)\n",
            "^C\n"
          ]
        }
      ]
    },
    {
      "cell_type": "code",
      "execution_count": 16,
      "metadata": {
        "id": "P7t2efM3Dt1R"
      },
      "outputs": [],
      "source": [
        "# scripts/build_feature_dataset.py\n",
        "import cv2\n",
        "import mediapipe as mp\n",
        "import numpy as np\n",
        "import pandas as pd\n",
        "import argparse\n",
        "from pathlib import Path\n",
        "from tqdm import tqdm\n",
        "import math\n",
        "\n",
        "# --- Helper Functions ---\n",
        "\n",
        "def calculate_3point_angle(a, b, c):\n",
        "    \"\"\"Tính góc tạo bởi 3 điểm a, b, c (b là đỉnh). Tọa độ pixel.\"\"\"\n",
        "    try:\n",
        "        ba = np.array(a) - np.array(b)\n",
        "        bc = np.array(c) - np.array(b)\n",
        "        cosine_angle = np.dot(ba, bc) / (np.linalg.norm(ba) * np.linalg.norm(bc))\n",
        "        angle = np.arccos(np.clip(cosine_angle, -1.0, 1.0))\n",
        "        return np.degrees(angle)\n",
        "    except (ValueError, ZeroDivisionError):\n",
        "        return None\n",
        "\n",
        "def calculate_inclination_angle(p1, p2):\n",
        "    \"\"\"Tính góc nghiêng của đường thẳng p1-p2 so với trục ngang. Tọa độ pixel.\"\"\"\n",
        "    try:\n",
        "        delta_y = p2[1] - p1[1]\n",
        "        delta_x = p2[0] - p1[0]\n",
        "        angle = np.degrees(math.atan2(delta_y, delta_x))\n",
        "        return angle\n",
        "    except (ValueError, ZeroDivisionError):\n",
        "        return None\n",
        "\n",
        "def get_landmark_coords(landmarks, landmark_enum, shape):\n",
        "    \"\"\"Lấy tọa độ pixel từ landmark enum.\"\"\"\n",
        "    try:\n",
        "        lm = landmarks.landmark[landmark_enum]\n",
        "        if lm.visibility < 0.5:\n",
        "            return None\n",
        "        return (int(lm.x * shape[1]), int(lm.y * shape[0]))\n",
        "    except (IndexError, KeyError):\n",
        "        return None\n",
        "\n",
        "# --- Main Class ---\n",
        "\n",
        "class FeatureDatasetBuilder:\n",
        "    def __init__(self, output_csv_path):\n",
        "        self.output_csv_path = Path(output_csv_path)\n",
        "        self.mp_pose = mp.solutions.pose\n",
        "        self.pose = self.mp_pose.Pose(static_image_mode=True, min_detection_confidence=0.6, model_complexity=2)\n",
        "\n",
        "    def process_videos_in_directory(self, root_dir):\n",
        "        video_paths = list(Path(root_dir).rglob('*.mp4'))\n",
        "        all_features = []\n",
        "\n",
        "        for video_path in tqdm(video_paths, desc=\"Building Feature Dataset\"):\n",
        "            frame = self._extract_frame(video_path)\n",
        "            if frame is None:\n",
        "                continue\n",
        "\n",
        "            results = self.pose.process(cv2.cvtColor(frame, cv2.COLOR_BGR2RGB))\n",
        "\n",
        "            if results.pose_landmarks:\n",
        "                geometric_features = self._extract_geometric_features(results.pose_landmarks, frame.shape)\n",
        "                if geometric_features:\n",
        "                    labels = self._get_labels_from_path(video_path, root_dir)\n",
        "                    record = {**labels, **geometric_features, 'source_file': str(video_path)}\n",
        "                    all_features.append(record)\n",
        "\n",
        "        df = pd.DataFrame(all_features)\n",
        "        df.to_csv(self.output_csv_path, index=False)\n",
        "        print(f\"\\nFeature dataset built successfully. Data saved to {self.output_csv_path}\")\n",
        "        return df\n",
        "\n",
        "    def _extract_frame(self, video_path):\n",
        "        cap = cv2.VideoCapture(str(video_path))\n",
        "        if not cap.isOpened(): return None\n",
        "        frame_count = int(cap.get(cv2.CAP_PROP_FRAME_COUNT))\n",
        "        mid_frame_idx = max(0, frame_count // 2)\n",
        "        cap.set(cv2.CAP_PROP_POS_FRAMES, mid_frame_idx)\n",
        "        ret, frame = cap.read()\n",
        "        cap.release()\n",
        "        return frame if ret else None\n",
        "\n",
        "    def _get_labels_from_path(self, video_path, root_dir):\n",
        "        relative_path = video_path.relative_to(root_dir)\n",
        "        parts = relative_path.parts\n",
        "        return {\n",
        "            'view': parts[0],\n",
        "            'quality': parts[1],\n",
        "            'label': 1 if 'Good' in parts[1] else 0,\n",
        "            'category': parts[2]\n",
        "        }\n",
        "\n",
        "    def _extract_geometric_features(self, landmarks, shape):\n",
        "        lm_enum = self.mp_pose.PoseLandmark\n",
        "        coords = {name: get_landmark_coords(landmarks, lm_enum[name], shape) for name in lm_enum._member_map_}\n",
        "\n",
        "        # --- Kiểm tra sự tồn tại của các keypoints tối quan trọng ---\n",
        "        required_landmarks = [\n",
        "            \"LEFT_SHOULDER\", \"RIGHT_SHOULDER\", \"LEFT_HIP\", \"RIGHT_HIP\",\n",
        "            \"LEFT_KNEE\", \"RIGHT_KNEE\", \"LEFT_ANKLE\", \"RIGHT_ANKLE\",\n",
        "            \"LEFT_WRIST\", \"LEFT_ELBOW\", \"RIGHT_WRIST\", \"RIGHT_ELBOW\"\n",
        "        ]\n",
        "        if any(coords[name] is None for name in required_landmarks):\n",
        "            return {}\n",
        "\n",
        "        features = {}\n",
        "\n",
        "        # --- Góc khớp (từ process_swing.py) ---\n",
        "        features['left_arm_angle'] = calculate_3point_angle(coords[\"LEFT_WRIST\"], coords[\"LEFT_ELBOW\"], coords[\"LEFT_SHOULDER\"])\n",
        "        features['right_arm_angle'] = calculate_3point_angle(coords[\"RIGHT_WRIST\"], coords[\"RIGHT_ELBOW\"], coords[\"RIGHT_SHOULDER\"])\n",
        "        features['left_knee_angle'] = calculate_3point_angle(coords[\"LEFT_HIP\"], coords[\"LEFT_KNEE\"], coords[\"LEFT_ANKLE\"])\n",
        "        features['right_knee_angle'] = calculate_3point_angle(coords[\"RIGHT_HIP\"], coords[\"RIGHT_KNEE\"], coords[\"RIGHT_ANKLE\"])\n",
        "        features['left_hip_angle'] = calculate_3point_angle(coords[\"LEFT_SHOULDER\"], coords[\"LEFT_HIP\"], coords[\"LEFT_KNEE\"])\n",
        "        features['right_hip_angle'] = calculate_3point_angle(coords[\"RIGHT_SHOULDER\"], coords[\"RIGHT_HIP\"], coords[\"RIGHT_KNEE\"])\n",
        "\n",
        "        # --- Góc nghiêng (từ MediaPipe_class.py) ---\n",
        "        features['shoulders_inclination'] = calculate_inclination_angle(coords[\"LEFT_SHOULDER\"], coords[\"RIGHT_SHOULDER\"])\n",
        "        features['hips_inclination'] = calculate_inclination_angle(coords[\"LEFT_HIP\"], coords[\"RIGHT_HIP\"])\n",
        "\n",
        "        # --- Góc xoay thân (từ process_swing.py) ---\n",
        "        features['pelvis_angle'] = calculate_3point_angle(coords[\"LEFT_ANKLE\"], coords[\"LEFT_HIP\"], coords[\"RIGHT_SHOULDER\"])\n",
        "\n",
        "        # --- Đặc trưng về vị trí (từ process_swing.py) ---\n",
        "        midpoint_ankles_x = (coords[\"LEFT_ANKLE\"][0] + coords[\"RIGHT_ANKLE\"][0]) / 2\n",
        "        wrist_midpoint_offset_x = coords[\"LEFT_WRIST\"][0] - midpoint_ankles_x\n",
        "\n",
        "        shoulder_width = np.linalg.norm(np.array(coords[\"LEFT_SHOULDER\"]) - np.array(coords[\"RIGHT_SHOULDER\"]))\n",
        "        if shoulder_width > 0:\n",
        "            features['wrist_midpoint_offset_x_ratio'] = wrist_midpoint_offset_x / shoulder_width\n",
        "\n",
        "        return {k: v for k, v in features.items() if v is not None}"
      ]
    },
    {
      "cell_type": "code",
      "source": [
        "if __name__ == \"__main__\":\n",
        "    parser = argparse.ArgumentParser(description=\"Extract hybrid pose features from golf swing videos.\")\n",
        "    parser.add_argument(\"--root_dir\", required=True, help=\"Root directory of the dataset.\")\n",
        "    parser.add_argument(\"--output_csv\", default=\"results/golf_swing_features_hybrid.csv\", help=\"Path to save the output CSV.\")\n",
        "\n",
        "    import sys\n",
        "    if 'google.colab' in sys.modules:\n",
        "        root_path = \"/content/drive/MyDrive/image/CUSTOM_DATASET\"\n",
        "        output_path = \"/content/drive/MyDrive/image/golf_swing_features_hybrid.csv\"\n",
        "\n",
        "        print(f\"Running on Colab.\")\n",
        "        print(f\"Dataset root directory: {root_path}\")\n",
        "        print(f\"Output CSV path: {output_path}\")\n",
        "\n",
        "        args = parser.parse_args([\n",
        "            '--root_dir', root_path,\n",
        "            '--output_csv', output_path\n",
        "        ])\n",
        "    else:\n",
        "        args = parser.parse_args()\n",
        "\n",
        "    Path(args.output_csv).parent.mkdir(parents=True, exist_ok=True)\n",
        "\n",
        "    extractor = HybridFeatureExtractor(args.output_csv)\n",
        "    extractor.process_videos_in_directory(args.root_dir)"
      ],
      "metadata": {
        "colab": {
          "base_uri": "https://localhost:8080/"
        },
        "id": "Q9fUY7KuKCkj",
        "outputId": "5f1a1272-65b0-42c7-a886-2ce317e0188f"
      },
      "execution_count": 17,
      "outputs": [
        {
          "output_type": "stream",
          "name": "stdout",
          "text": [
            "Running on Colab.\n",
            "Dataset root directory: /content/drive/MyDrive/image/CUSTOM_DATASET\n",
            "Output CSV path: /content/drive/MyDrive/image/golf_swing_features_hybrid.csv\n"
          ]
        },
        {
          "output_type": "stream",
          "name": "stderr",
          "text": [
            "Extracting Hybrid Features: 100%|██████████| 361/361 [23:30<00:00,  3.91s/it]"
          ]
        },
        {
          "output_type": "stream",
          "name": "stdout",
          "text": [
            "\n",
            "Hybrid feature extraction complete. Data saved to /content/drive/MyDrive/image/golf_swing_features_hybrid.csv\n"
          ]
        },
        {
          "output_type": "stream",
          "name": "stderr",
          "text": [
            "\n"
          ]
        }
      ]
    },
    {
      "cell_type": "code",
      "source": [
        "# notebooks/Vong1_Classification_PoC.ipynb\n",
        "\n",
        "# Cell 1: Cài đặt và Imports\n",
        "import pandas as pd\n",
        "import numpy as np\n",
        "import plotly.express as px\n",
        "import seaborn as sns\n",
        "import matplotlib.pyplot as plt\n",
        "from sklearn.model_selection import train_test_split\n",
        "from sklearn.preprocessing import StandardScaler\n",
        "from sklearn.linear_model import LogisticRegression\n",
        "from sklearn.metrics import classification_report, confusion_matrix, accuracy_score\n",
        "import joblib\n",
        "\n",
        "# Cell 2: Tải và Khám phá Dữ liệu Đặc trưng\n",
        "# (Giả sử script extract_features.py đã chạy và tạo ra file csv)\n",
        "df = pd.read_csv('/content/drive/MyDrive/image/golf_swing_features_hybrid.csv')\n",
        "\n",
        "print(\"Shape of the dataset:\", df.shape)\n",
        "print(\"\\nLabel distribution:\")\n",
        "print(df['quality'].value_counts())\n",
        "df.head()\n",
        "\n",
        "# Cell 3: Phân tích Dữ liệu Khám phá (EDA) - Rất quan trọng để gây ấn tượng!\n",
        "import plotly.express as px\n",
        "df_features = pd.read_csv('/content/drive/MyDrive/image/golf_swing_features_hybrid.csv')\n",
        "\n",
        "# So sánh góc gập gối trái\n",
        "fig = px.box(df_features, x='quality', y='left_knee_angle', color='quality',\n",
        "             title='So sánh góc Gối Trái giữa Swing Tốt và Xấu',\n",
        "             labels={'left_knee_angle': 'Góc Gối Trái (độ)', 'quality': 'Chất lượng Swing'})\n",
        "fig.show()\n",
        "# -> Phân tích: \"Từ biểu đồ, ta thấy các cú swing 'Tốt' có góc gập gối trái trung bình khoảng 160 độ, trong khi các cú 'Xấu' có phân phối rộng hơn và nhiều giá trị ngoại lai hơn, cho thấy sự thiếu ổn định.\"\n",
        "# -> Nhận xét: Có thể thấy các cú swing \"Tốt\" có xu hướng gom cụm vị trí cổ tay chặt chẽ hơn.\n",
        "\n",
        "# Cell 4: Chuẩn bị Dữ liệu cho Huấn luyện\n",
        "# Bỏ các cột không phải là feature\n",
        "features_df = df.drop(columns=['file_path', 'view', 'quality', 'label', 'category'])\n",
        "# Bỏ các keypoints có visibility thấp (tùy chọn nhưng nên làm)\n",
        "# visibility_cols = [col for col in features_df.columns if col.endswith('_v')]\n",
        "# ... (logic loại bỏ)\n",
        "\n",
        "target = df['label']\n",
        "\n",
        "# Xử lý NaN (nếu MediaPipe không tìm thấy người)\n",
        "features_df.fillna(features_df.mean(), inplace=True)\n",
        "\n",
        "# Chia tập train/test\n",
        "X_train, X_test, y_train, y_test = train_test_split(\n",
        "    features_df, target, test_size=0.2, random_state=42, stratify=target\n",
        ")\n",
        "\n",
        "# Chuẩn hóa dữ liệu\n",
        "scaler = StandardScaler()\n",
        "X_train_scaled = scaler.fit_transform(X_train)\n",
        "X_test_scaled = scaler.transform(X_test)\n",
        "\n",
        "print(\"Training set size:\", X_train_scaled.shape)\n",
        "print(\"Test set size:\", X_test_scaled.shape)\n",
        "\n",
        "# Cell 5: Huấn luyện và Đánh giá Mô hình\n",
        "# Sử dụng Logistic Regression làm baseline\n",
        "model = LogisticRegression(max_iter=1000, random_state=42)\n",
        "model.fit(X_train_scaled, y_train)\n",
        "\n",
        "# Đánh giá trên tập test\n",
        "y_pred = model.predict(X_test_scaled)\n",
        "\n",
        "# Metrics\n",
        "accuracy = accuracy_score(y_test, y_pred)\n",
        "report = classification_report(y_test, y_pred, target_names=['Bad Swing', 'Good Swing'])\n",
        "conf_matrix = confusion_matrix(y_test, y_pred)\n",
        "\n",
        "print(f\"Model Accuracy: {accuracy * 100:.2f}%\")\n",
        "print(\"\\nClassification Report:\")\n",
        "print(report)\n",
        "\n",
        "# Trực quan hóa Confusion Matrix\n",
        "plt.figure(figsize=(8, 6))\n",
        "sns.heatmap(conf_matrix, annot=True, fmt='d', cmap='Blues',\n",
        "            xticklabels=['Bad Swing', 'Good Swing'], yticklabels=['Bad Swing', 'Good Swing'])\n",
        "plt.xlabel('Predicted Label')\n",
        "plt.ylabel('True Label')\n",
        "plt.title('Confusion Matrix')\n",
        "plt.show()\n",
        "\n",
        "# Cell 6: Lưu Mô hình và Scaler để sử dụng sau\n",
        "joblib.dump(model, '../models/swing_classifier_v1.joblib')\n",
        "joblib.dump(scaler, '../models/scaler_v1.joblib')\n",
        "print(\"Model and scaler saved successfully.\")\n",
        "\n",
        "\n",
        "import matplotlib.pyplot as plt\n",
        "\n",
        "# Lấy feature importance từ mô hình Random Forest\n",
        "importances = rf_model.feature_importances_\n",
        "feature_names = X_train.columns\n",
        "feature_importance_df = pd.DataFrame({'feature': feature_names, 'importance': importances})\n",
        "feature_importance_df = feature_importance_df.sort_values('importance', ascending=False)\n",
        "\n",
        "# Trực quan hóa\n",
        "plt.figure(figsize=(12, 8))\n",
        "sns.barplot(x='importance', y='feature', data=feature_importance_df)\n",
        "plt.title('Mức độ quan trọng của các Đặc trưng')\n",
        "plt.show()\n",
        "\n",
        "# -> Phân tích: \"Kết quả cho thấy 'left_arm_angle' và 'hip_width_ratio' là hai đặc trưng quan trọng nhất để phân biệt swing tốt/xấu, điều này hoàn toàn phù hợp với lý thuyết huấn luyện golf.\""
      ],
      "metadata": {
        "colab": {
          "base_uri": "https://localhost:8080/",
          "height": 1000
        },
        "id": "pjjgwQsXEUQN",
        "outputId": "2f098aea-c0ae-49ca-8dcf-55a832555c72"
      },
      "execution_count": 18,
      "outputs": [
        {
          "output_type": "stream",
          "name": "stdout",
          "text": [
            "Shape of the dataset: (693, 16)\n",
            "\n",
            "Label distribution:\n",
            "quality\n",
            "Bad Swings     579\n",
            "Good Swings    114\n",
            "Name: count, dtype: int64\n"
          ]
        },
        {
          "output_type": "display_data",
          "data": {
            "text/html": [
              "<html>\n",
              "<head><meta charset=\"utf-8\" /></head>\n",
              "<body>\n",
              "    <div>            <script src=\"https://cdnjs.cloudflare.com/ajax/libs/mathjax/2.7.5/MathJax.js?config=TeX-AMS-MML_SVG\"></script><script type=\"text/javascript\">if (window.MathJax && window.MathJax.Hub && window.MathJax.Hub.Config) {window.MathJax.Hub.Config({SVG: {font: \"STIX-Web\"}});}</script>                <script type=\"text/javascript\">window.PlotlyConfig = {MathJaxConfig: 'local'};</script>\n",
              "        <script charset=\"utf-8\" src=\"https://cdn.plot.ly/plotly-2.35.2.min.js\"></script>                <div id=\"b79ab533-523c-41d8-9a15-6d87d9a3291a\" class=\"plotly-graph-div\" style=\"height:525px; width:100%;\"></div>            <script type=\"text/javascript\">                                    window.PLOTLYENV=window.PLOTLYENV || {};                                    if (document.getElementById(\"b79ab533-523c-41d8-9a15-6d87d9a3291a\")) {                    Plotly.newPlot(                        \"b79ab533-523c-41d8-9a15-6d87d9a3291a\",                        [{\"alignmentgroup\":\"True\",\"hovertemplate\":\"Chất lượng Swing=%{x}\\u003cbr\\u003eGóc Gối Trái (độ)=%{y}\\u003cextra\\u003e\\u003c\\u002fextra\\u003e\",\"legendgroup\":\"Bad Swings\",\"marker\":{\"color\":\"#636efa\"},\"name\":\"Bad Swings\",\"notched\":false,\"offsetgroup\":\"Bad Swings\",\"orientation\":\"v\",\"showlegend\":true,\"x\":[\"Bad Swings\",\"Bad Swings\",\"Bad Swings\",\"Bad Swings\",\"Bad Swings\",\"Bad Swings\",\"Bad Swings\",\"Bad Swings\",\"Bad Swings\",\"Bad Swings\",\"Bad Swings\",\"Bad Swings\",\"Bad Swings\",\"Bad Swings\",\"Bad Swings\",\"Bad Swings\",\"Bad Swings\",\"Bad Swings\",\"Bad Swings\",\"Bad Swings\",\"Bad Swings\",\"Bad Swings\",\"Bad Swings\",\"Bad Swings\",\"Bad Swings\",\"Bad Swings\",\"Bad Swings\",\"Bad Swings\",\"Bad Swings\",\"Bad Swings\",\"Bad Swings\",\"Bad Swings\",\"Bad Swings\",\"Bad Swings\",\"Bad Swings\",\"Bad Swings\",\"Bad Swings\",\"Bad Swings\",\"Bad Swings\",\"Bad Swings\",\"Bad Swings\",\"Bad Swings\",\"Bad Swings\",\"Bad Swings\",\"Bad Swings\",\"Bad Swings\",\"Bad Swings\",\"Bad Swings\",\"Bad Swings\",\"Bad Swings\",\"Bad Swings\",\"Bad Swings\",\"Bad Swings\",\"Bad Swings\",\"Bad Swings\",\"Bad Swings\",\"Bad Swings\",\"Bad Swings\",\"Bad Swings\",\"Bad Swings\",\"Bad Swings\",\"Bad Swings\",\"Bad Swings\",\"Bad Swings\",\"Bad Swings\",\"Bad Swings\",\"Bad Swings\",\"Bad Swings\",\"Bad Swings\",\"Bad Swings\",\"Bad Swings\",\"Bad Swings\",\"Bad Swings\",\"Bad Swings\",\"Bad Swings\",\"Bad Swings\",\"Bad Swings\",\"Bad Swings\",\"Bad Swings\",\"Bad Swings\",\"Bad Swings\",\"Bad Swings\",\"Bad Swings\",\"Bad Swings\",\"Bad Swings\",\"Bad Swings\",\"Bad Swings\",\"Bad Swings\",\"Bad Swings\",\"Bad Swings\",\"Bad Swings\",\"Bad Swings\",\"Bad Swings\",\"Bad Swings\",\"Bad Swings\",\"Bad Swings\",\"Bad Swings\",\"Bad Swings\",\"Bad Swings\",\"Bad Swings\",\"Bad Swings\",\"Bad Swings\",\"Bad Swings\",\"Bad Swings\",\"Bad Swings\",\"Bad Swings\",\"Bad Swings\",\"Bad Swings\",\"Bad Swings\",\"Bad Swings\",\"Bad Swings\",\"Bad Swings\",\"Bad Swings\",\"Bad Swings\",\"Bad Swings\",\"Bad Swings\",\"Bad Swings\",\"Bad Swings\",\"Bad Swings\",\"Bad Swings\",\"Bad Swings\",\"Bad Swings\",\"Bad Swings\",\"Bad Swings\",\"Bad Swings\",\"Bad Swings\",\"Bad Swings\",\"Bad Swings\",\"Bad Swings\",\"Bad Swings\",\"Bad Swings\",\"Bad Swings\",\"Bad Swings\",\"Bad Swings\",\"Bad Swings\",\"Bad Swings\",\"Bad Swings\",\"Bad Swings\",\"Bad Swings\",\"Bad Swings\",\"Bad Swings\",\"Bad Swings\",\"Bad Swings\",\"Bad Swings\",\"Bad Swings\",\"Bad Swings\",\"Bad Swings\",\"Bad Swings\",\"Bad Swings\",\"Bad Swings\",\"Bad Swings\",\"Bad Swings\",\"Bad Swings\",\"Bad Swings\",\"Bad Swings\",\"Bad Swings\",\"Bad Swings\",\"Bad Swings\",\"Bad Swings\",\"Bad Swings\",\"Bad Swings\",\"Bad Swings\",\"Bad Swings\",\"Bad Swings\",\"Bad Swings\",\"Bad Swings\",\"Bad Swings\",\"Bad Swings\",\"Bad Swings\",\"Bad Swings\",\"Bad Swings\",\"Bad Swings\",\"Bad Swings\",\"Bad Swings\",\"Bad Swings\",\"Bad Swings\",\"Bad Swings\",\"Bad Swings\",\"Bad Swings\",\"Bad Swings\",\"Bad Swings\",\"Bad Swings\",\"Bad Swings\",\"Bad Swings\",\"Bad Swings\",\"Bad Swings\",\"Bad Swings\",\"Bad Swings\",\"Bad Swings\",\"Bad Swings\",\"Bad Swings\",\"Bad Swings\",\"Bad Swings\",\"Bad Swings\",\"Bad Swings\",\"Bad Swings\",\"Bad Swings\",\"Bad Swings\",\"Bad Swings\",\"Bad Swings\",\"Bad Swings\",\"Bad Swings\",\"Bad Swings\",\"Bad Swings\",\"Bad Swings\",\"Bad Swings\",\"Bad Swings\",\"Bad Swings\",\"Bad Swings\",\"Bad Swings\",\"Bad Swings\",\"Bad Swings\",\"Bad Swings\",\"Bad Swings\",\"Bad Swings\",\"Bad Swings\",\"Bad Swings\",\"Bad Swings\",\"Bad Swings\",\"Bad Swings\",\"Bad Swings\",\"Bad Swings\",\"Bad Swings\",\"Bad Swings\",\"Bad Swings\",\"Bad Swings\",\"Bad Swings\",\"Bad Swings\",\"Bad Swings\",\"Bad Swings\",\"Bad Swings\",\"Bad Swings\",\"Bad Swings\",\"Bad Swings\",\"Bad Swings\",\"Bad Swings\",\"Bad Swings\",\"Bad Swings\",\"Bad Swings\",\"Bad Swings\",\"Bad Swings\",\"Bad Swings\",\"Bad Swings\",\"Bad Swings\",\"Bad Swings\",\"Bad Swings\",\"Bad Swings\",\"Bad Swings\",\"Bad Swings\",\"Bad Swings\",\"Bad Swings\",\"Bad Swings\",\"Bad Swings\",\"Bad Swings\",\"Bad Swings\",\"Bad Swings\",\"Bad Swings\",\"Bad Swings\",\"Bad Swings\",\"Bad Swings\",\"Bad Swings\",\"Bad Swings\",\"Bad Swings\",\"Bad Swings\",\"Bad Swings\",\"Bad Swings\",\"Bad Swings\",\"Bad Swings\",\"Bad Swings\",\"Bad Swings\",\"Bad Swings\",\"Bad Swings\",\"Bad Swings\",\"Bad Swings\",\"Bad Swings\",\"Bad Swings\",\"Bad Swings\",\"Bad Swings\",\"Bad Swings\",\"Bad Swings\",\"Bad Swings\",\"Bad Swings\",\"Bad Swings\",\"Bad Swings\",\"Bad Swings\",\"Bad Swings\",\"Bad Swings\",\"Bad Swings\",\"Bad Swings\",\"Bad Swings\",\"Bad Swings\",\"Bad Swings\",\"Bad Swings\",\"Bad Swings\",\"Bad Swings\",\"Bad Swings\",\"Bad Swings\",\"Bad Swings\",\"Bad Swings\",\"Bad Swings\",\"Bad Swings\",\"Bad Swings\",\"Bad Swings\",\"Bad Swings\",\"Bad Swings\",\"Bad Swings\",\"Bad Swings\",\"Bad Swings\",\"Bad Swings\",\"Bad Swings\",\"Bad Swings\",\"Bad Swings\",\"Bad Swings\",\"Bad Swings\",\"Bad Swings\",\"Bad Swings\",\"Bad Swings\",\"Bad Swings\",\"Bad Swings\",\"Bad Swings\",\"Bad Swings\",\"Bad Swings\",\"Bad Swings\",\"Bad Swings\",\"Bad Swings\",\"Bad Swings\",\"Bad Swings\",\"Bad Swings\",\"Bad Swings\",\"Bad Swings\",\"Bad Swings\",\"Bad Swings\",\"Bad Swings\",\"Bad Swings\",\"Bad Swings\",\"Bad Swings\",\"Bad Swings\",\"Bad Swings\",\"Bad Swings\",\"Bad Swings\",\"Bad Swings\",\"Bad Swings\",\"Bad Swings\",\"Bad Swings\",\"Bad Swings\",\"Bad Swings\",\"Bad Swings\",\"Bad Swings\",\"Bad Swings\",\"Bad Swings\",\"Bad Swings\",\"Bad Swings\",\"Bad Swings\",\"Bad Swings\",\"Bad Swings\",\"Bad Swings\",\"Bad Swings\",\"Bad Swings\",\"Bad Swings\",\"Bad Swings\",\"Bad Swings\",\"Bad Swings\",\"Bad Swings\",\"Bad Swings\",\"Bad Swings\",\"Bad Swings\",\"Bad Swings\",\"Bad Swings\",\"Bad Swings\",\"Bad Swings\",\"Bad Swings\",\"Bad Swings\",\"Bad Swings\",\"Bad Swings\",\"Bad Swings\",\"Bad Swings\",\"Bad Swings\",\"Bad Swings\",\"Bad Swings\",\"Bad Swings\",\"Bad Swings\",\"Bad Swings\",\"Bad Swings\",\"Bad Swings\",\"Bad Swings\",\"Bad Swings\",\"Bad Swings\",\"Bad Swings\",\"Bad Swings\",\"Bad Swings\",\"Bad Swings\",\"Bad Swings\",\"Bad Swings\",\"Bad Swings\",\"Bad Swings\",\"Bad Swings\",\"Bad Swings\",\"Bad Swings\",\"Bad Swings\",\"Bad Swings\",\"Bad Swings\",\"Bad Swings\",\"Bad Swings\",\"Bad Swings\",\"Bad Swings\",\"Bad Swings\",\"Bad Swings\",\"Bad Swings\",\"Bad Swings\",\"Bad Swings\",\"Bad Swings\",\"Bad Swings\",\"Bad Swings\",\"Bad Swings\",\"Bad Swings\",\"Bad Swings\",\"Bad Swings\",\"Bad Swings\",\"Bad Swings\",\"Bad Swings\",\"Bad Swings\",\"Bad Swings\",\"Bad Swings\",\"Bad Swings\",\"Bad Swings\",\"Bad Swings\",\"Bad Swings\",\"Bad Swings\",\"Bad Swings\",\"Bad Swings\",\"Bad Swings\",\"Bad Swings\",\"Bad Swings\",\"Bad Swings\",\"Bad Swings\",\"Bad Swings\",\"Bad Swings\",\"Bad Swings\",\"Bad Swings\",\"Bad Swings\",\"Bad Swings\",\"Bad Swings\",\"Bad Swings\",\"Bad Swings\",\"Bad Swings\",\"Bad Swings\",\"Bad Swings\",\"Bad Swings\",\"Bad Swings\",\"Bad Swings\",\"Bad Swings\",\"Bad Swings\",\"Bad Swings\",\"Bad Swings\",\"Bad Swings\",\"Bad Swings\",\"Bad Swings\",\"Bad Swings\",\"Bad Swings\",\"Bad Swings\",\"Bad Swings\",\"Bad Swings\",\"Bad Swings\",\"Bad Swings\",\"Bad Swings\",\"Bad Swings\",\"Bad Swings\",\"Bad Swings\",\"Bad Swings\",\"Bad Swings\",\"Bad Swings\",\"Bad Swings\",\"Bad Swings\",\"Bad Swings\",\"Bad Swings\",\"Bad Swings\",\"Bad Swings\",\"Bad Swings\",\"Bad Swings\",\"Bad Swings\",\"Bad Swings\",\"Bad Swings\",\"Bad Swings\",\"Bad Swings\",\"Bad Swings\",\"Bad Swings\",\"Bad Swings\",\"Bad Swings\",\"Bad Swings\",\"Bad Swings\",\"Bad Swings\",\"Bad Swings\",\"Bad Swings\",\"Bad Swings\",\"Bad Swings\",\"Bad Swings\",\"Bad Swings\",\"Bad Swings\",\"Bad Swings\",\"Bad Swings\",\"Bad Swings\",\"Bad Swings\",\"Bad Swings\",\"Bad Swings\",\"Bad Swings\",\"Bad Swings\",\"Bad Swings\",\"Bad Swings\",\"Bad Swings\",\"Bad Swings\",\"Bad Swings\",\"Bad Swings\",\"Bad Swings\",\"Bad Swings\",\"Bad Swings\",\"Bad Swings\",\"Bad Swings\",\"Bad Swings\",\"Bad Swings\",\"Bad Swings\",\"Bad Swings\",\"Bad Swings\",\"Bad Swings\",\"Bad Swings\",\"Bad Swings\",\"Bad Swings\",\"Bad Swings\",\"Bad Swings\",\"Bad Swings\",\"Bad Swings\",\"Bad Swings\",\"Bad Swings\",\"Bad Swings\",\"Bad Swings\",\"Bad Swings\",\"Bad Swings\",\"Bad Swings\",\"Bad Swings\",\"Bad Swings\",\"Bad Swings\",\"Bad Swings\",\"Bad Swings\",\"Bad Swings\",\"Bad Swings\",\"Bad Swings\",\"Bad Swings\",\"Bad Swings\",\"Bad Swings\",\"Bad Swings\",\"Bad Swings\",\"Bad Swings\",\"Bad Swings\",\"Bad Swings\",\"Bad Swings\",\"Bad Swings\",\"Bad Swings\",\"Bad Swings\",\"Bad Swings\",\"Bad Swings\",\"Bad Swings\",\"Bad Swings\",\"Bad Swings\",\"Bad Swings\",\"Bad Swings\",\"Bad Swings\",\"Bad Swings\",\"Bad Swings\",\"Bad Swings\",\"Bad Swings\",\"Bad Swings\",\"Bad Swings\",\"Bad Swings\",\"Bad Swings\",\"Bad Swings\",\"Bad Swings\",\"Bad Swings\",\"Bad Swings\",\"Bad Swings\",\"Bad Swings\"],\"x0\":\" \",\"xaxis\":\"x\",\"y\":[null,null,null,null,null,152.53813702297313,152.75198233632403,163.49335781732745,null,163.8500009184463,143.7794199290047,152.8274726747821,143.68378854865549,null,null,null,null,null,null,null,null,null,null,null,null,null,null,null,null,null,null,null,null,null,null,null,null,null,null,null,null,null,null,null,null,null,null,null,null,null,null,null,null,null,null,null,104.74748627284534,112.03453475900398,null,162.6248869447907,179.24910825181817,null,167.54849778151447,160.5158672192941,161.67132812500984,146.0430077144793,159.89867973004397,160.96550288201178,164.0028058882235,176.4778130078188,162.09029236877086,146.62542288808405,163.1426381445953,167.12873948581563,149.01371211128796,162.84475726775833,162.5039758747357,121.1687719726445,115.8987990887509,163.29142714996945,148.09024506639054,157.9554132492262,169.21977173645553,140.7228878397649,139.21276750330034,162.2395799567229,146.37282956765824,132.8500852164631,162.4733042084797,120.22929837259338,127.4508853040926,160.19071281270732,149.50629060537656,155.37460345530704,163.81589244093456,139.55220418046653,125.83262547424576,166.35898179242523,136.88109819122354,156.8818276023377,161.3570153688238,146.1800519138825,167.754528986089,165.82671911959883,145.55995728636725,165.63165018023136,164.24830315767568,145.51674140155737,167.46102041248523,166.4976990282634,153.07019610069435,171.43564232140918,162.06554003718875,139.78383609548325,143.64599684351276,160.25406335082317,148.70512853899828,167.9637743764664,164.20334308100192,134.13363966244842,155.84099680153034,163.64264387161904,134.77723213772427,119.10250882546964,167.95448350808468,148.5422586932301,142.22367196941212,160.2886474420755,129.27444612422104,129.68248185883692,163.58474467175353,176.58157091060582,138.05172811661393,160.69967366952454,123.015748684715,156.07252472549885,164.34305824162885,143.48543291296653,131.90428616552848,160.98987971221396,136.20351570610856,124.79230762274103,163.12377252651362,144.51955871534292,135.21687885618422,163.96894301268526,145.63148557314304,137.45050681169386,160.85452531215537,144.32320909227144,162.99913675504408,164.42733224599058,143.19091414382686,134.83759808405003,162.2792065307977,139.15927180454378,156.31543949318385,170.24601231397983,144.01768601475982,135.41294643971125,161.56804216270524,145.79453582401806,163.21492501930814,163.4642472504743,133.84253493338124,130.91360586166945,164.762631953462,151.0894820092169,167.31644468643782,163.02965831057438,150.00745135762062,164.17814200453745,165.84983374277292,142.33694315954156,136.9601986725327,164.32981378113118,146.6958784108141,163.93490211328918,164.62301924056152,148.68879578338218,126.31382548121836,163.94747620873136,150.2536531699599,162.24620226038155,162.33254757844207,125.70524256371912,142.2174681192874,163.6978730130359,136.2713195521145,135.507483501742,165.71547893760285,130.48374145728548,130.23063012733732,169.6340371596573,143.4324268975304,141.97523387766867,160.71113512175154,150.5593743631084,168.08600378072947,162.2466865347083,145.44749859686402,174.4038695205295,162.86670220130333,145.8415164948915,170.67041127429678,161.60404305763666,150.55826166013915,135.87762547158275,162.3456393684999,147.60390498636642,161.70011742076474,163.53162883727302,129.32019770859,135.91479135481035,161.44072776815858,139.9647800470785,162.26171225191405,164.99856891119518,145.8491965198047,168.13289932078845,164.29798136053716,143.75559461808314,127.02475978649836,162.49477951003252,148.40414442314156,130.48650481614504,162.4811617499393,148.1736297006821,138.24102945831015,162.4050383236387,148.05961171532022,166.0550848573498,164.67873368528055,131.08276523201988,138.55548247898045,165.42429974594705,165.87610146748057,148.68889053628305,163.08994897566424,141.3381560777174,133.65422940119103,163.95055581658173,143.6521970428481,169.8383054247249,162.91501448900058,149.58888832577452,141.96956292664004,163.45912184247982,146.7821607409024,122.4702523527212,168.26504431434105,172.75921586673064,135.53434916912002,162.29314291581363,133.42526515361416,153.94527781756784,164.9868109049284,149.9678967769722,165.8847576640593,164.19275075612833,149.53197186919985,165.7725398429817,164.82211178144277,171.62575733263176,129.60317587231933,161.3396307047719,149.3399191335839,164.86007994425614,163.91048951571418,149.09592180109158,166.99380273688496,169.55642375126985,138.0050651908267,141.45827526897722,160.86394812370247,146.55906366540626,129.5190642279779,167.6376401548094,137.85340099543714,126.1980675567218,165.02320692514985,147.87030620049234,116.17445981230436,170.08157394550423,145.46816093775652,115.0369677065204,160.79451803567406,149.63741828614693,168.18097286363036,168.26912352738336,143.18379866870103,141.08639782076963,161.63198474620248,173.63600401443065,150.83589108834877,169.50126097688815,148.4033951540212,136.54481963985555,164.8600765387489,149.4008270258846,167.61196929331263,168.59511085116884,175.4807182492032,144.42605204908787,162.83756100801352,142.81004387095567,134.61321072773114,null,142.50743345279605,154.9315258494544,163.30114966584176,153.25344757671365,138.85017258057863,165.42023338583087,141.31483964028703,139.77634303834557,163.0608999958387,148.9873508988365,136.6758391658427,163.3902251605156,145.42280590798703,166.72746308079067,163.73007814750153,147.43703458682535,169.292349430134,163.9856731701147,150.97027896468794,133.21281641840653,162.43187718035117,150.3432570608805,170.31916797288758,null,145.6332068710018,121.44588363977,165.1306736042748,151.63384814789657,146.3825685921992,164.51342562178428,146.60122456301482,165.15414191655694,165.57563140446743,150.17080152059148,169.97163947694654,165.61641593580498,129.74651675165683,159.47767805942675,162.4957007233081,151.7581708816542,168.55548912348948,164.25963829575426,147.44305188208438,169.2788171822945,166.65300450718763,150.8822541086877,166.7458322126619,164.60581191923606,141.6922642063162,132.0135541923823,165.39838641848212,147.99929928708627,172.64963136157075,164.8643775293846,147.3630223694747,106.93300090734338,165.62128376796696,147.49814516655195,168.79079531191937,166.9182608315751,146.53535249918033,168.40290684667534,null,146.1719122830933,149.2484242765107,161.11258966922196,151.5115562635905,123.69736936350364,162.6060393052167,146.2548013579236,168.80570412698762,165.12826342179935,152.8021503667254,144.28314971632625,161.2335346136537,147.72950730275397,143.3806411704361,163.35652468632068,131.36788762544637,133.37837299127466,163.55766333268994,150.2627617671337,166.54395459821072,164.7210925712646,147.7121758711627,153.81281901237972,161.16581792752197,147.12856003821156,169.31395670478955,null,null,null,null,170.59281678164908,170.8406649070647,142.34450934401482,null,153.53761202227705,null,null,null,null,null,null,null,null,null,null,null,null,null,null,null,null,154.07142043049527,146.98766277551292,null,null,null,null,149.08773263008737,164.44642202162598,163.9692499572191,149.2955389759772,172.86312616127378,null,151.93668574213405,163.15315182931104,null,null,null,null,null,null,158.48408983997496,148.27177499535858,158.93529176186314,161.87751444893928,null,null,160.86366877239962,138.8371119639421,151.7163306053198,171.85368777445632,null,null,null,null,170.58405934616374,152.13187001314455,141.1319848900748,156.9597645986691,165.0355323201456,null,null,null,144.29792850705792,152.29394176071582,null,null,null,172.5742932885411,171.7647210592987,175.1355911945575,157.92577356594742,149.7258387413294,149.92379841102564,null,140.32883139063395,138.58860750201217,null,null,null,null,163.1554455928617,null,null,null,null,null,null,null,null,null,null,null,null,null,null,null,null,null,138.4903039583601,null,null,null,null,null,146.37351998030223,null,null,143.33803154974086,153.85070067875074,null,139.23015189928063,null,145.18996889572395,138.91003796820954,131.5902840152496,130.58778630530995,132.84909848165347,134.5645885800424,135.69323840227042,142.4159512030664,138.56033980832112,141.58600509641522,135.22619831153668,138.28045825893705,133.66643315910616,127.15851313629013,135.12750761123218,135.31089078860293,145.91987368049766,144.80735452142022,144.75499808824094,143.08418615577477,140.6511979083976,136.313406332898,135.9137960333054,134.96688773750898,146.54185412121632,147.08001101336427,136.6827604163335,130.34934744193583,145.63086244386147,125.65725023823668,137.25021265278394,144.8875624348372,147.83119288863867,149.9411394551986,148.68886012855248,148.62897850170566,149.84777031454112,150.78303304064212,147.91043737408668,144.2800739694282,145.54813392029428,152.102457174092,147.9342370254217,140.62685940075036,136.6425095865948,135.39804018338646,143.44260293659227,133.5839944096385,138.0984296881347,137.6101696486863,137.71021493167973,119.08663679676314,140.1683210802244,142.50634764780463,119.1161325397399,122.2342732158784,149.91379812847492,135.1455387287158,140.8913489847868,156.52492107885402,151.01131601481197,155.95009364676557,143.71284008953586,134.18075264934424,144.2385242893566],\"y0\":\" \",\"yaxis\":\"y\",\"type\":\"box\"},{\"alignmentgroup\":\"True\",\"hovertemplate\":\"Chất lượng Swing=%{x}\\u003cbr\\u003eGóc Gối Trái (độ)=%{y}\\u003cextra\\u003e\\u003c\\u002fextra\\u003e\",\"legendgroup\":\"Good Swings\",\"marker\":{\"color\":\"#EF553B\"},\"name\":\"Good Swings\",\"notched\":false,\"offsetgroup\":\"Good Swings\",\"orientation\":\"v\",\"showlegend\":true,\"x\":[\"Good Swings\",\"Good Swings\",\"Good Swings\",\"Good Swings\",\"Good Swings\",\"Good Swings\",\"Good Swings\",\"Good Swings\",\"Good Swings\",\"Good Swings\",\"Good Swings\",\"Good Swings\",\"Good Swings\",\"Good Swings\",\"Good Swings\",\"Good Swings\",\"Good Swings\",\"Good Swings\",\"Good Swings\",\"Good Swings\",\"Good Swings\",\"Good Swings\",\"Good Swings\",\"Good Swings\",\"Good Swings\",\"Good Swings\",\"Good Swings\",\"Good Swings\",\"Good Swings\",\"Good Swings\",\"Good Swings\",\"Good Swings\",\"Good Swings\",\"Good Swings\",\"Good Swings\",\"Good Swings\",\"Good Swings\",\"Good Swings\",\"Good Swings\",\"Good Swings\",\"Good Swings\",\"Good Swings\",\"Good Swings\",\"Good Swings\",\"Good Swings\",\"Good Swings\",\"Good Swings\",\"Good Swings\",\"Good Swings\",\"Good Swings\",\"Good Swings\",\"Good Swings\",\"Good Swings\",\"Good Swings\",\"Good Swings\",\"Good Swings\",\"Good Swings\",\"Good Swings\",\"Good Swings\",\"Good Swings\",\"Good Swings\",\"Good Swings\",\"Good Swings\",\"Good Swings\",\"Good Swings\",\"Good Swings\",\"Good Swings\",\"Good Swings\",\"Good Swings\",\"Good Swings\",\"Good Swings\",\"Good Swings\",\"Good Swings\",\"Good Swings\",\"Good Swings\",\"Good Swings\",\"Good Swings\",\"Good Swings\",\"Good Swings\",\"Good Swings\",\"Good Swings\",\"Good Swings\",\"Good Swings\",\"Good Swings\",\"Good Swings\",\"Good Swings\",\"Good Swings\",\"Good Swings\",\"Good Swings\",\"Good Swings\",\"Good Swings\",\"Good Swings\",\"Good Swings\",\"Good Swings\",\"Good Swings\",\"Good Swings\",\"Good Swings\",\"Good Swings\",\"Good Swings\",\"Good Swings\",\"Good Swings\",\"Good Swings\",\"Good Swings\",\"Good Swings\",\"Good Swings\",\"Good Swings\",\"Good Swings\",\"Good Swings\",\"Good Swings\",\"Good Swings\",\"Good Swings\",\"Good Swings\",\"Good Swings\",\"Good Swings\"],\"x0\":\" \",\"xaxis\":\"x\",\"y\":[null,null,null,null,null,null,null,null,null,null,null,null,null,null,null,null,null,null,null,null,null,null,null,null,null,null,null,null,null,null,null,null,null,null,null,149.1743949245609,157.51970812615832,154.11442039348856,153.10448823323617,152.73045901198367,150.2628990340086,151.4822488122602,144.7074630871277,144.7074630871277,144.78903872960365,148.7240839630602,147.4839247983008,150.57012705896764,162.35619370647171,169.16457202074028,153.7774632416272,146.2660514627157,142.48825141858558,145.93935229277284,143.04895141104876,143.14040242728151,145.77992654876883,148.8355944776181,140.96653572104108,146.3900940702416,147.9070398455102,138.12958167045764,140.87719703898412,139.2472751900804,138.76196665403455,132.5929382478833,134.46732060513344,137.3713913189867,130.64958459772996,121.27707068014467,135.70859219362535,134.61759643974173,125.4744101625288,127.9029262265331,130.80504341894328,132.86849554127548,162.23945773975606,142.38007388872202,149.96727188275705,150.18861228404103,150.18861228404103,153.74378187900575,140.07564940364105,136.36806179192544,130.80533887939794,126.12405579836896,162.79737360942525,150.81323895604166,133.5956006087503,140.2256568122482,127.77501357796594,129.3538316605421,130.0946115631178,127.13371154577248,143.06232475623952,139.89693701208265,134.59266531047902,135.83562178009063,159.65007369468694,179.20116909514726,141.8067468711339,130.45955907580978,129.54253848716428,129.85719207574076,129.85329004271813,150.44305441487822,147.69321526671808,142.8608786219145,147.18979050967062,143.7159457158267,144.79100772303318,145.19930239160522,141.19189089774514,149.14716143983455],\"y0\":\" \",\"yaxis\":\"y\",\"type\":\"box\"}],                        {\"template\":{\"data\":{\"histogram2dcontour\":[{\"type\":\"histogram2dcontour\",\"colorbar\":{\"outlinewidth\":0,\"ticks\":\"\"},\"colorscale\":[[0.0,\"#0d0887\"],[0.1111111111111111,\"#46039f\"],[0.2222222222222222,\"#7201a8\"],[0.3333333333333333,\"#9c179e\"],[0.4444444444444444,\"#bd3786\"],[0.5555555555555556,\"#d8576b\"],[0.6666666666666666,\"#ed7953\"],[0.7777777777777778,\"#fb9f3a\"],[0.8888888888888888,\"#fdca26\"],[1.0,\"#f0f921\"]]}],\"choropleth\":[{\"type\":\"choropleth\",\"colorbar\":{\"outlinewidth\":0,\"ticks\":\"\"}}],\"histogram2d\":[{\"type\":\"histogram2d\",\"colorbar\":{\"outlinewidth\":0,\"ticks\":\"\"},\"colorscale\":[[0.0,\"#0d0887\"],[0.1111111111111111,\"#46039f\"],[0.2222222222222222,\"#7201a8\"],[0.3333333333333333,\"#9c179e\"],[0.4444444444444444,\"#bd3786\"],[0.5555555555555556,\"#d8576b\"],[0.6666666666666666,\"#ed7953\"],[0.7777777777777778,\"#fb9f3a\"],[0.8888888888888888,\"#fdca26\"],[1.0,\"#f0f921\"]]}],\"heatmap\":[{\"type\":\"heatmap\",\"colorbar\":{\"outlinewidth\":0,\"ticks\":\"\"},\"colorscale\":[[0.0,\"#0d0887\"],[0.1111111111111111,\"#46039f\"],[0.2222222222222222,\"#7201a8\"],[0.3333333333333333,\"#9c179e\"],[0.4444444444444444,\"#bd3786\"],[0.5555555555555556,\"#d8576b\"],[0.6666666666666666,\"#ed7953\"],[0.7777777777777778,\"#fb9f3a\"],[0.8888888888888888,\"#fdca26\"],[1.0,\"#f0f921\"]]}],\"heatmapgl\":[{\"type\":\"heatmapgl\",\"colorbar\":{\"outlinewidth\":0,\"ticks\":\"\"},\"colorscale\":[[0.0,\"#0d0887\"],[0.1111111111111111,\"#46039f\"],[0.2222222222222222,\"#7201a8\"],[0.3333333333333333,\"#9c179e\"],[0.4444444444444444,\"#bd3786\"],[0.5555555555555556,\"#d8576b\"],[0.6666666666666666,\"#ed7953\"],[0.7777777777777778,\"#fb9f3a\"],[0.8888888888888888,\"#fdca26\"],[1.0,\"#f0f921\"]]}],\"contourcarpet\":[{\"type\":\"contourcarpet\",\"colorbar\":{\"outlinewidth\":0,\"ticks\":\"\"}}],\"contour\":[{\"type\":\"contour\",\"colorbar\":{\"outlinewidth\":0,\"ticks\":\"\"},\"colorscale\":[[0.0,\"#0d0887\"],[0.1111111111111111,\"#46039f\"],[0.2222222222222222,\"#7201a8\"],[0.3333333333333333,\"#9c179e\"],[0.4444444444444444,\"#bd3786\"],[0.5555555555555556,\"#d8576b\"],[0.6666666666666666,\"#ed7953\"],[0.7777777777777778,\"#fb9f3a\"],[0.8888888888888888,\"#fdca26\"],[1.0,\"#f0f921\"]]}],\"surface\":[{\"type\":\"surface\",\"colorbar\":{\"outlinewidth\":0,\"ticks\":\"\"},\"colorscale\":[[0.0,\"#0d0887\"],[0.1111111111111111,\"#46039f\"],[0.2222222222222222,\"#7201a8\"],[0.3333333333333333,\"#9c179e\"],[0.4444444444444444,\"#bd3786\"],[0.5555555555555556,\"#d8576b\"],[0.6666666666666666,\"#ed7953\"],[0.7777777777777778,\"#fb9f3a\"],[0.8888888888888888,\"#fdca26\"],[1.0,\"#f0f921\"]]}],\"mesh3d\":[{\"type\":\"mesh3d\",\"colorbar\":{\"outlinewidth\":0,\"ticks\":\"\"}}],\"scatter\":[{\"fillpattern\":{\"fillmode\":\"overlay\",\"size\":10,\"solidity\":0.2},\"type\":\"scatter\"}],\"parcoords\":[{\"type\":\"parcoords\",\"line\":{\"colorbar\":{\"outlinewidth\":0,\"ticks\":\"\"}}}],\"scatterpolargl\":[{\"type\":\"scatterpolargl\",\"marker\":{\"colorbar\":{\"outlinewidth\":0,\"ticks\":\"\"}}}],\"bar\":[{\"error_x\":{\"color\":\"#2a3f5f\"},\"error_y\":{\"color\":\"#2a3f5f\"},\"marker\":{\"line\":{\"color\":\"#E5ECF6\",\"width\":0.5},\"pattern\":{\"fillmode\":\"overlay\",\"size\":10,\"solidity\":0.2}},\"type\":\"bar\"}],\"scattergeo\":[{\"type\":\"scattergeo\",\"marker\":{\"colorbar\":{\"outlinewidth\":0,\"ticks\":\"\"}}}],\"scatterpolar\":[{\"type\":\"scatterpolar\",\"marker\":{\"colorbar\":{\"outlinewidth\":0,\"ticks\":\"\"}}}],\"histogram\":[{\"marker\":{\"pattern\":{\"fillmode\":\"overlay\",\"size\":10,\"solidity\":0.2}},\"type\":\"histogram\"}],\"scattergl\":[{\"type\":\"scattergl\",\"marker\":{\"colorbar\":{\"outlinewidth\":0,\"ticks\":\"\"}}}],\"scatter3d\":[{\"type\":\"scatter3d\",\"line\":{\"colorbar\":{\"outlinewidth\":0,\"ticks\":\"\"}},\"marker\":{\"colorbar\":{\"outlinewidth\":0,\"ticks\":\"\"}}}],\"scattermapbox\":[{\"type\":\"scattermapbox\",\"marker\":{\"colorbar\":{\"outlinewidth\":0,\"ticks\":\"\"}}}],\"scatterternary\":[{\"type\":\"scatterternary\",\"marker\":{\"colorbar\":{\"outlinewidth\":0,\"ticks\":\"\"}}}],\"scattercarpet\":[{\"type\":\"scattercarpet\",\"marker\":{\"colorbar\":{\"outlinewidth\":0,\"ticks\":\"\"}}}],\"carpet\":[{\"aaxis\":{\"endlinecolor\":\"#2a3f5f\",\"gridcolor\":\"white\",\"linecolor\":\"white\",\"minorgridcolor\":\"white\",\"startlinecolor\":\"#2a3f5f\"},\"baxis\":{\"endlinecolor\":\"#2a3f5f\",\"gridcolor\":\"white\",\"linecolor\":\"white\",\"minorgridcolor\":\"white\",\"startlinecolor\":\"#2a3f5f\"},\"type\":\"carpet\"}],\"table\":[{\"cells\":{\"fill\":{\"color\":\"#EBF0F8\"},\"line\":{\"color\":\"white\"}},\"header\":{\"fill\":{\"color\":\"#C8D4E3\"},\"line\":{\"color\":\"white\"}},\"type\":\"table\"}],\"barpolar\":[{\"marker\":{\"line\":{\"color\":\"#E5ECF6\",\"width\":0.5},\"pattern\":{\"fillmode\":\"overlay\",\"size\":10,\"solidity\":0.2}},\"type\":\"barpolar\"}],\"pie\":[{\"automargin\":true,\"type\":\"pie\"}]},\"layout\":{\"autotypenumbers\":\"strict\",\"colorway\":[\"#636efa\",\"#EF553B\",\"#00cc96\",\"#ab63fa\",\"#FFA15A\",\"#19d3f3\",\"#FF6692\",\"#B6E880\",\"#FF97FF\",\"#FECB52\"],\"font\":{\"color\":\"#2a3f5f\"},\"hovermode\":\"closest\",\"hoverlabel\":{\"align\":\"left\"},\"paper_bgcolor\":\"white\",\"plot_bgcolor\":\"#E5ECF6\",\"polar\":{\"bgcolor\":\"#E5ECF6\",\"angularaxis\":{\"gridcolor\":\"white\",\"linecolor\":\"white\",\"ticks\":\"\"},\"radialaxis\":{\"gridcolor\":\"white\",\"linecolor\":\"white\",\"ticks\":\"\"}},\"ternary\":{\"bgcolor\":\"#E5ECF6\",\"aaxis\":{\"gridcolor\":\"white\",\"linecolor\":\"white\",\"ticks\":\"\"},\"baxis\":{\"gridcolor\":\"white\",\"linecolor\":\"white\",\"ticks\":\"\"},\"caxis\":{\"gridcolor\":\"white\",\"linecolor\":\"white\",\"ticks\":\"\"}},\"coloraxis\":{\"colorbar\":{\"outlinewidth\":0,\"ticks\":\"\"}},\"colorscale\":{\"sequential\":[[0.0,\"#0d0887\"],[0.1111111111111111,\"#46039f\"],[0.2222222222222222,\"#7201a8\"],[0.3333333333333333,\"#9c179e\"],[0.4444444444444444,\"#bd3786\"],[0.5555555555555556,\"#d8576b\"],[0.6666666666666666,\"#ed7953\"],[0.7777777777777778,\"#fb9f3a\"],[0.8888888888888888,\"#fdca26\"],[1.0,\"#f0f921\"]],\"sequentialminus\":[[0.0,\"#0d0887\"],[0.1111111111111111,\"#46039f\"],[0.2222222222222222,\"#7201a8\"],[0.3333333333333333,\"#9c179e\"],[0.4444444444444444,\"#bd3786\"],[0.5555555555555556,\"#d8576b\"],[0.6666666666666666,\"#ed7953\"],[0.7777777777777778,\"#fb9f3a\"],[0.8888888888888888,\"#fdca26\"],[1.0,\"#f0f921\"]],\"diverging\":[[0,\"#8e0152\"],[0.1,\"#c51b7d\"],[0.2,\"#de77ae\"],[0.3,\"#f1b6da\"],[0.4,\"#fde0ef\"],[0.5,\"#f7f7f7\"],[0.6,\"#e6f5d0\"],[0.7,\"#b8e186\"],[0.8,\"#7fbc41\"],[0.9,\"#4d9221\"],[1,\"#276419\"]]},\"xaxis\":{\"gridcolor\":\"white\",\"linecolor\":\"white\",\"ticks\":\"\",\"title\":{\"standoff\":15},\"zerolinecolor\":\"white\",\"automargin\":true,\"zerolinewidth\":2},\"yaxis\":{\"gridcolor\":\"white\",\"linecolor\":\"white\",\"ticks\":\"\",\"title\":{\"standoff\":15},\"zerolinecolor\":\"white\",\"automargin\":true,\"zerolinewidth\":2},\"scene\":{\"xaxis\":{\"backgroundcolor\":\"#E5ECF6\",\"gridcolor\":\"white\",\"linecolor\":\"white\",\"showbackground\":true,\"ticks\":\"\",\"zerolinecolor\":\"white\",\"gridwidth\":2},\"yaxis\":{\"backgroundcolor\":\"#E5ECF6\",\"gridcolor\":\"white\",\"linecolor\":\"white\",\"showbackground\":true,\"ticks\":\"\",\"zerolinecolor\":\"white\",\"gridwidth\":2},\"zaxis\":{\"backgroundcolor\":\"#E5ECF6\",\"gridcolor\":\"white\",\"linecolor\":\"white\",\"showbackground\":true,\"ticks\":\"\",\"zerolinecolor\":\"white\",\"gridwidth\":2}},\"shapedefaults\":{\"line\":{\"color\":\"#2a3f5f\"}},\"annotationdefaults\":{\"arrowcolor\":\"#2a3f5f\",\"arrowhead\":0,\"arrowwidth\":1},\"geo\":{\"bgcolor\":\"white\",\"landcolor\":\"#E5ECF6\",\"subunitcolor\":\"white\",\"showland\":true,\"showlakes\":true,\"lakecolor\":\"white\"},\"title\":{\"x\":0.05},\"mapbox\":{\"style\":\"light\"}}},\"xaxis\":{\"anchor\":\"y\",\"domain\":[0.0,1.0],\"title\":{\"text\":\"Chất lượng Swing\"},\"categoryorder\":\"array\",\"categoryarray\":[\"Bad Swings\",\"Good Swings\"]},\"yaxis\":{\"anchor\":\"x\",\"domain\":[0.0,1.0],\"title\":{\"text\":\"Góc Gối Trái (độ)\"}},\"legend\":{\"title\":{\"text\":\"Chất lượng Swing\"},\"tracegroupgap\":0},\"title\":{\"text\":\"So sánh góc Gối Trái giữa Swing Tốt và Xấu\"},\"boxmode\":\"overlay\"},                        {\"responsive\": true}                    ).then(function(){\n",
              "                            \n",
              "var gd = document.getElementById('b79ab533-523c-41d8-9a15-6d87d9a3291a');\n",
              "var x = new MutationObserver(function (mutations, observer) {{\n",
              "        var display = window.getComputedStyle(gd).display;\n",
              "        if (!display || display === 'none') {{\n",
              "            console.log([gd, 'removed!']);\n",
              "            Plotly.purge(gd);\n",
              "            observer.disconnect();\n",
              "        }}\n",
              "}});\n",
              "\n",
              "// Listen for the removal of the full notebook cells\n",
              "var notebookContainer = gd.closest('#notebook-container');\n",
              "if (notebookContainer) {{\n",
              "    x.observe(notebookContainer, {childList: true});\n",
              "}}\n",
              "\n",
              "// Listen for the clearing of the current output cell\n",
              "var outputEl = gd.closest('.output');\n",
              "if (outputEl) {{\n",
              "    x.observe(outputEl, {childList: true});\n",
              "}}\n",
              "\n",
              "                        })                };                            </script>        </div>\n",
              "</body>\n",
              "</html>"
            ]
          },
          "metadata": {}
        },
        {
          "output_type": "error",
          "ename": "TypeError",
          "evalue": "Could not convert ['Bad Putting Posture HunchedBad Putting Posture HunchedBad Putting Posture StraightBad Putting Posture StraightaddresstopcontactaddresstopcontactaddresstopcontactBad Near To BalladdresstopcontactBad Near To BallBad Near To BalladdresstopcontactBad Straight BodyBad Straight BodyaddresstopcontactBad Straight BodyBad Straight BodyBad Straight BodyBad Straight BodyBad Straight BodyBad Straight BodyBad Straight BodyBad Straight BodyBad Straight BodyBad Straight BodyBad Straight BodyBad Straight BodyaddresstopcontactaddresstopcontactaddresstopcontactBad Knee PostureBad Knee PostureBad Knee PostureBad Knee PostureBad Knee PostureBad Knee PostureBad Knee PostureBad Knee PostureBad Knee PostureBad Knee PostureaddresstopcontactaddresstopcontactaddresstopcontactaddresstopcontactaddresstopcontactaddresstopcontactaddresstopcontactaddresstopcontactaddresstopcontactaddresstopcontactaddresstopcontactaddresstopcontactaddresstopcontactaddresstopcontactaddresstopcontactaddresstopcontactaddresstopcontactaddresstopcontactaddresstopcontactaddresstopcontactaddresstopcontactaddresstopcontactaddresstopcontactaddresstopcontactaddresstopcontactaddresstopcontactaddresstopcontactaddresstopcontactaddresstopcontactaddresstopcontactaddresstopcontactaddresstopcontactaddresstopcontactaddresstopcontactaddresstopcontactaddresstopcontactaddresstopcontactaddresstopcontactaddresstopcontactaddresstopcontactaddresstopcontactaddresstopcontactaddresstopcontactaddresstopcontactaddresstopcontactaddresstopcontactaddresstopcontactaddresstopcontactaddresstopcontactaddresstopcontactaddresstopcontactaddresstopcontactaddresstopcontactaddresstopcontactaddresstopcontactaddresstopcontactaddresstopcontactaddresstopcontactaddresstopcontactaddresstopcontactaddresstopcontactaddresstopcontactaddresstopcontactaddresstopcontactaddresstopcontactaddresstopcontactaddresstopcontactaddresstopcontactaddresstopcontactaddresstopcontactaddresstopcontactaddresstopcontactaddresstopcontactaddresstopcontactaddresstopcontactaddresstopcontactaddresstopcontactaddresstopcontactaddresstopcontactaddresstopcontactaddresstopcontactaddresstopcontactaddresstopcontactaddresstopcontactaddresstopcontactaddresstopcontactaddresstopcontactaddresstopcontactaddresstopcontactaddresstopcontactaddresstopcontactaddresstopcontactaddresstopcontactaddresstopcontactaddresstopcontactaddresstopcontactaddresstopcontactaddresstopcontactaddresstopcontactaddresstopcontactaddresstopcontactaddresstopcontactaddresstopcontactaddresstopcontactaddresstopcontactaddresstopcontactaddresstopcontactaddresstopcontactaddresstopcontactaddresstopcontactaddresstopcontactaddresstopcontactaddresstopcontactaddresstopcontactaddresstopcontactaddresstopcontactaddresstopcontactaddresstopcontactaddresstopcontactaddresstopcontactaddresstopcontactaddresstopcontactaddresstopcontactaddresstopcontactaddresstopcontactaddresstopcontactaddresstopcontactaddresstopcontactaddresstopcontactaddresstopcontactaddresstopcontactaddresstopcontactaddresstopcontactaddresstopcontactaddresstopcontactaddresstopcontactaddresstopcontactaddresstopcontactaddresstopcontactaddresstopcontactaddresstopcontactaddresstopcontactaddresstopcontactaddresstopcontactaddresstopcontactaddresstopcontactaddresstopcontactaddresstopcontactaddresstopcontactaddresstopcontactaddresstopcontactaddresstopcontactaddresstopcontactaddresstopcontactaddresstopcontactaddresstopcontactaddresstopcontactGood Body Posture and Ball DistanceaddresstopcontactaddresstopcontactGood Body Posture and Ball DistanceGood Knee PostureGood Knee PostureGood Knee PostureGood Knee PostureGood Knee PostureGood Knee PostureGood Knee PostureGood Knee PostureGood Knee PostureBad Iron Wide StanceaddresstopcontactaddresstopcontactBad Elbow Posture BackswingBad Elbow Posture BackswingBad Elbow Posture BackswingaddresstopcontactaddresstopcontactaddresstopcontactBad Putting Wide StanceaddresstopcontactBad Putting Narrow StanceaddresstopcontactaddresstopcontactBad Elbow Posture FrontswingaddresstopcontactBad Iron Narrow StanceaddresstopcontactaddresstopcontactBad Iron Narrow StanceBad Iron Narrow StanceaddresstopcontactaddresstopcontactBad Chip Wide StanceaddresstopcontactBad Chin PositionBad Chin PositionBad Chin PositionBad Chin PositionBad Chin PositionBad Chin PositionaddresstopcontactaddresstopcontactaddresstopcontactGood Side IronGood Side IronGood Side IronGood Side IronaddresstopcontactaddresstopcontactaddresstopcontactaddresstopcontactGood Side IronaddresstopcontactaddresstopcontactaddresstopcontactGood Elbow Posture BackswingGood Elbow Posture BackswingGood Elbow Posture BackswingGood Elbow Posture BackswingGood Elbow Posture BackswingGood Elbow Posture BackswingGood Elbow Posture BackswingGood Elbow Posture BackswingGood Elbow Posture BackswingGood Elbow Posture BackswingGood Elbow Posture BackswingGood Elbow Posture BackswingGood Elbow Posture BackswingGood Elbow Posture BackswingGood Elbow Posture BackswingaddresstopcontactaddresstopcontactGood Elbow Posture FrontswingGood Elbow Posture FrontswingGood Elbow Posture FrontswingGood Chin PositionGood Chin PositionGood Chin PositionGood Chin PositionGood Chin PositionGood Chin PositionGood Chin PositionGood Chin PositionGood Chin PositionGood Chin PositionGood Chin PositionGood Chin PositionGood Chin PositionGood Chin PositionGood Chin PositionGood Chin PositionGood Chin PositionGood Chin PositionGood Chin PositionGood Chin PositionGood Chin PositionaddresstopcontactGood Ball PositionaddresstopcontactGood Ball Position'] to numeric",
          "traceback": [
            "\u001b[0;31m---------------------------------------------------------------------------\u001b[0m",
            "\u001b[0;31mTypeError\u001b[0m                                 Traceback (most recent call last)",
            "\u001b[0;32m/tmp/ipython-input-3620719857.py\u001b[0m in \u001b[0;36m<cell line: 0>\u001b[0;34m()\u001b[0m\n\u001b[1;32m     44\u001b[0m \u001b[0;34m\u001b[0m\u001b[0m\n\u001b[1;32m     45\u001b[0m \u001b[0;31m# Xử lý NaN (nếu MediaPipe không tìm thấy người)\u001b[0m\u001b[0;34m\u001b[0m\u001b[0;34m\u001b[0m\u001b[0m\n\u001b[0;32m---> 46\u001b[0;31m \u001b[0mfeatures_df\u001b[0m\u001b[0;34m.\u001b[0m\u001b[0mfillna\u001b[0m\u001b[0;34m(\u001b[0m\u001b[0mfeatures_df\u001b[0m\u001b[0;34m.\u001b[0m\u001b[0mmean\u001b[0m\u001b[0;34m(\u001b[0m\u001b[0;34m)\u001b[0m\u001b[0;34m,\u001b[0m \u001b[0minplace\u001b[0m\u001b[0;34m=\u001b[0m\u001b[0;32mTrue\u001b[0m\u001b[0;34m)\u001b[0m\u001b[0;34m\u001b[0m\u001b[0;34m\u001b[0m\u001b[0m\n\u001b[0m\u001b[1;32m     47\u001b[0m \u001b[0;34m\u001b[0m\u001b[0m\n\u001b[1;32m     48\u001b[0m \u001b[0;31m# Chia tập train/test\u001b[0m\u001b[0;34m\u001b[0m\u001b[0;34m\u001b[0m\u001b[0m\n",
            "\u001b[0;32m/usr/local/lib/python3.12/dist-packages/pandas/core/frame.py\u001b[0m in \u001b[0;36mmean\u001b[0;34m(self, axis, skipna, numeric_only, **kwargs)\u001b[0m\n\u001b[1;32m  11691\u001b[0m         \u001b[0;34m**\u001b[0m\u001b[0mkwargs\u001b[0m\u001b[0;34m,\u001b[0m\u001b[0;34m\u001b[0m\u001b[0;34m\u001b[0m\u001b[0m\n\u001b[1;32m  11692\u001b[0m     ):\n\u001b[0;32m> 11693\u001b[0;31m         \u001b[0mresult\u001b[0m \u001b[0;34m=\u001b[0m \u001b[0msuper\u001b[0m\u001b[0;34m(\u001b[0m\u001b[0;34m)\u001b[0m\u001b[0;34m.\u001b[0m\u001b[0mmean\u001b[0m\u001b[0;34m(\u001b[0m\u001b[0maxis\u001b[0m\u001b[0;34m,\u001b[0m \u001b[0mskipna\u001b[0m\u001b[0;34m,\u001b[0m \u001b[0mnumeric_only\u001b[0m\u001b[0;34m,\u001b[0m \u001b[0;34m**\u001b[0m\u001b[0mkwargs\u001b[0m\u001b[0;34m)\u001b[0m\u001b[0;34m\u001b[0m\u001b[0;34m\u001b[0m\u001b[0m\n\u001b[0m\u001b[1;32m  11694\u001b[0m         \u001b[0;32mif\u001b[0m \u001b[0misinstance\u001b[0m\u001b[0;34m(\u001b[0m\u001b[0mresult\u001b[0m\u001b[0;34m,\u001b[0m \u001b[0mSeries\u001b[0m\u001b[0;34m)\u001b[0m\u001b[0;34m:\u001b[0m\u001b[0;34m\u001b[0m\u001b[0;34m\u001b[0m\u001b[0m\n\u001b[1;32m  11695\u001b[0m             \u001b[0mresult\u001b[0m \u001b[0;34m=\u001b[0m \u001b[0mresult\u001b[0m\u001b[0;34m.\u001b[0m\u001b[0m__finalize__\u001b[0m\u001b[0;34m(\u001b[0m\u001b[0mself\u001b[0m\u001b[0;34m,\u001b[0m \u001b[0mmethod\u001b[0m\u001b[0;34m=\u001b[0m\u001b[0;34m\"mean\"\u001b[0m\u001b[0;34m)\u001b[0m\u001b[0;34m\u001b[0m\u001b[0;34m\u001b[0m\u001b[0m\n",
            "\u001b[0;32m/usr/local/lib/python3.12/dist-packages/pandas/core/generic.py\u001b[0m in \u001b[0;36mmean\u001b[0;34m(self, axis, skipna, numeric_only, **kwargs)\u001b[0m\n\u001b[1;32m  12418\u001b[0m         \u001b[0;34m**\u001b[0m\u001b[0mkwargs\u001b[0m\u001b[0;34m,\u001b[0m\u001b[0;34m\u001b[0m\u001b[0;34m\u001b[0m\u001b[0m\n\u001b[1;32m  12419\u001b[0m     ) -> Series | float:\n\u001b[0;32m> 12420\u001b[0;31m         return self._stat_function(\n\u001b[0m\u001b[1;32m  12421\u001b[0m             \u001b[0;34m\"mean\"\u001b[0m\u001b[0;34m,\u001b[0m \u001b[0mnanops\u001b[0m\u001b[0;34m.\u001b[0m\u001b[0mnanmean\u001b[0m\u001b[0;34m,\u001b[0m \u001b[0maxis\u001b[0m\u001b[0;34m,\u001b[0m \u001b[0mskipna\u001b[0m\u001b[0;34m,\u001b[0m \u001b[0mnumeric_only\u001b[0m\u001b[0;34m,\u001b[0m \u001b[0;34m**\u001b[0m\u001b[0mkwargs\u001b[0m\u001b[0;34m\u001b[0m\u001b[0;34m\u001b[0m\u001b[0m\n\u001b[1;32m  12422\u001b[0m         )\n",
            "\u001b[0;32m/usr/local/lib/python3.12/dist-packages/pandas/core/generic.py\u001b[0m in \u001b[0;36m_stat_function\u001b[0;34m(self, name, func, axis, skipna, numeric_only, **kwargs)\u001b[0m\n\u001b[1;32m  12375\u001b[0m         \u001b[0mvalidate_bool_kwarg\u001b[0m\u001b[0;34m(\u001b[0m\u001b[0mskipna\u001b[0m\u001b[0;34m,\u001b[0m \u001b[0;34m\"skipna\"\u001b[0m\u001b[0;34m,\u001b[0m \u001b[0mnone_allowed\u001b[0m\u001b[0;34m=\u001b[0m\u001b[0;32mFalse\u001b[0m\u001b[0;34m)\u001b[0m\u001b[0;34m\u001b[0m\u001b[0;34m\u001b[0m\u001b[0m\n\u001b[1;32m  12376\u001b[0m \u001b[0;34m\u001b[0m\u001b[0m\n\u001b[0;32m> 12377\u001b[0;31m         return self._reduce(\n\u001b[0m\u001b[1;32m  12378\u001b[0m             \u001b[0mfunc\u001b[0m\u001b[0;34m,\u001b[0m \u001b[0mname\u001b[0m\u001b[0;34m=\u001b[0m\u001b[0mname\u001b[0m\u001b[0;34m,\u001b[0m \u001b[0maxis\u001b[0m\u001b[0;34m=\u001b[0m\u001b[0maxis\u001b[0m\u001b[0;34m,\u001b[0m \u001b[0mskipna\u001b[0m\u001b[0;34m=\u001b[0m\u001b[0mskipna\u001b[0m\u001b[0;34m,\u001b[0m \u001b[0mnumeric_only\u001b[0m\u001b[0;34m=\u001b[0m\u001b[0mnumeric_only\u001b[0m\u001b[0;34m\u001b[0m\u001b[0;34m\u001b[0m\u001b[0m\n\u001b[1;32m  12379\u001b[0m         )\n",
            "\u001b[0;32m/usr/local/lib/python3.12/dist-packages/pandas/core/frame.py\u001b[0m in \u001b[0;36m_reduce\u001b[0;34m(self, op, name, axis, skipna, numeric_only, filter_type, **kwds)\u001b[0m\n\u001b[1;32m  11560\u001b[0m         \u001b[0;31m# After possibly _get_data and transposing, we are now in the\u001b[0m\u001b[0;34m\u001b[0m\u001b[0;34m\u001b[0m\u001b[0m\n\u001b[1;32m  11561\u001b[0m         \u001b[0;31m#  simple case where we can use BlockManager.reduce\u001b[0m\u001b[0;34m\u001b[0m\u001b[0;34m\u001b[0m\u001b[0m\n\u001b[0;32m> 11562\u001b[0;31m         \u001b[0mres\u001b[0m \u001b[0;34m=\u001b[0m \u001b[0mdf\u001b[0m\u001b[0;34m.\u001b[0m\u001b[0m_mgr\u001b[0m\u001b[0;34m.\u001b[0m\u001b[0mreduce\u001b[0m\u001b[0;34m(\u001b[0m\u001b[0mblk_func\u001b[0m\u001b[0;34m)\u001b[0m\u001b[0;34m\u001b[0m\u001b[0;34m\u001b[0m\u001b[0m\n\u001b[0m\u001b[1;32m  11563\u001b[0m         \u001b[0mout\u001b[0m \u001b[0;34m=\u001b[0m \u001b[0mdf\u001b[0m\u001b[0;34m.\u001b[0m\u001b[0m_constructor_from_mgr\u001b[0m\u001b[0;34m(\u001b[0m\u001b[0mres\u001b[0m\u001b[0;34m,\u001b[0m \u001b[0maxes\u001b[0m\u001b[0;34m=\u001b[0m\u001b[0mres\u001b[0m\u001b[0;34m.\u001b[0m\u001b[0maxes\u001b[0m\u001b[0;34m)\u001b[0m\u001b[0;34m.\u001b[0m\u001b[0miloc\u001b[0m\u001b[0;34m[\u001b[0m\u001b[0;36m0\u001b[0m\u001b[0;34m]\u001b[0m\u001b[0;34m\u001b[0m\u001b[0;34m\u001b[0m\u001b[0m\n\u001b[1;32m  11564\u001b[0m         \u001b[0;32mif\u001b[0m \u001b[0mout_dtype\u001b[0m \u001b[0;32mis\u001b[0m \u001b[0;32mnot\u001b[0m \u001b[0;32mNone\u001b[0m \u001b[0;32mand\u001b[0m \u001b[0mout\u001b[0m\u001b[0;34m.\u001b[0m\u001b[0mdtype\u001b[0m \u001b[0;34m!=\u001b[0m \u001b[0;34m\"boolean\"\u001b[0m\u001b[0;34m:\u001b[0m\u001b[0;34m\u001b[0m\u001b[0;34m\u001b[0m\u001b[0m\n",
            "\u001b[0;32m/usr/local/lib/python3.12/dist-packages/pandas/core/internals/managers.py\u001b[0m in \u001b[0;36mreduce\u001b[0;34m(self, func)\u001b[0m\n\u001b[1;32m   1498\u001b[0m         \u001b[0mres_blocks\u001b[0m\u001b[0;34m:\u001b[0m \u001b[0mlist\u001b[0m\u001b[0;34m[\u001b[0m\u001b[0mBlock\u001b[0m\u001b[0;34m]\u001b[0m \u001b[0;34m=\u001b[0m \u001b[0;34m[\u001b[0m\u001b[0;34m]\u001b[0m\u001b[0;34m\u001b[0m\u001b[0;34m\u001b[0m\u001b[0m\n\u001b[1;32m   1499\u001b[0m         \u001b[0;32mfor\u001b[0m \u001b[0mblk\u001b[0m \u001b[0;32min\u001b[0m \u001b[0mself\u001b[0m\u001b[0;34m.\u001b[0m\u001b[0mblocks\u001b[0m\u001b[0;34m:\u001b[0m\u001b[0;34m\u001b[0m\u001b[0;34m\u001b[0m\u001b[0m\n\u001b[0;32m-> 1500\u001b[0;31m             \u001b[0mnbs\u001b[0m \u001b[0;34m=\u001b[0m \u001b[0mblk\u001b[0m\u001b[0;34m.\u001b[0m\u001b[0mreduce\u001b[0m\u001b[0;34m(\u001b[0m\u001b[0mfunc\u001b[0m\u001b[0;34m)\u001b[0m\u001b[0;34m\u001b[0m\u001b[0;34m\u001b[0m\u001b[0m\n\u001b[0m\u001b[1;32m   1501\u001b[0m             \u001b[0mres_blocks\u001b[0m\u001b[0;34m.\u001b[0m\u001b[0mextend\u001b[0m\u001b[0;34m(\u001b[0m\u001b[0mnbs\u001b[0m\u001b[0;34m)\u001b[0m\u001b[0;34m\u001b[0m\u001b[0;34m\u001b[0m\u001b[0m\n\u001b[1;32m   1502\u001b[0m \u001b[0;34m\u001b[0m\u001b[0m\n",
            "\u001b[0;32m/usr/local/lib/python3.12/dist-packages/pandas/core/internals/blocks.py\u001b[0m in \u001b[0;36mreduce\u001b[0;34m(self, func)\u001b[0m\n\u001b[1;32m    402\u001b[0m         \u001b[0;32massert\u001b[0m \u001b[0mself\u001b[0m\u001b[0;34m.\u001b[0m\u001b[0mndim\u001b[0m \u001b[0;34m==\u001b[0m \u001b[0;36m2\u001b[0m\u001b[0;34m\u001b[0m\u001b[0;34m\u001b[0m\u001b[0m\n\u001b[1;32m    403\u001b[0m \u001b[0;34m\u001b[0m\u001b[0m\n\u001b[0;32m--> 404\u001b[0;31m         \u001b[0mresult\u001b[0m \u001b[0;34m=\u001b[0m \u001b[0mfunc\u001b[0m\u001b[0;34m(\u001b[0m\u001b[0mself\u001b[0m\u001b[0;34m.\u001b[0m\u001b[0mvalues\u001b[0m\u001b[0;34m)\u001b[0m\u001b[0;34m\u001b[0m\u001b[0;34m\u001b[0m\u001b[0m\n\u001b[0m\u001b[1;32m    405\u001b[0m \u001b[0;34m\u001b[0m\u001b[0m\n\u001b[1;32m    406\u001b[0m         \u001b[0;32mif\u001b[0m \u001b[0mself\u001b[0m\u001b[0;34m.\u001b[0m\u001b[0mvalues\u001b[0m\u001b[0;34m.\u001b[0m\u001b[0mndim\u001b[0m \u001b[0;34m==\u001b[0m \u001b[0;36m1\u001b[0m\u001b[0;34m:\u001b[0m\u001b[0;34m\u001b[0m\u001b[0;34m\u001b[0m\u001b[0m\n",
            "\u001b[0;32m/usr/local/lib/python3.12/dist-packages/pandas/core/frame.py\u001b[0m in \u001b[0;36mblk_func\u001b[0;34m(values, axis)\u001b[0m\n\u001b[1;32m  11479\u001b[0m                     \u001b[0;32mreturn\u001b[0m \u001b[0mnp\u001b[0m\u001b[0;34m.\u001b[0m\u001b[0marray\u001b[0m\u001b[0;34m(\u001b[0m\u001b[0;34m[\u001b[0m\u001b[0mresult\u001b[0m\u001b[0;34m]\u001b[0m\u001b[0;34m)\u001b[0m\u001b[0;34m\u001b[0m\u001b[0;34m\u001b[0m\u001b[0m\n\u001b[1;32m  11480\u001b[0m             \u001b[0;32melse\u001b[0m\u001b[0;34m:\u001b[0m\u001b[0;34m\u001b[0m\u001b[0;34m\u001b[0m\u001b[0m\n\u001b[0;32m> 11481\u001b[0;31m                 \u001b[0;32mreturn\u001b[0m \u001b[0mop\u001b[0m\u001b[0;34m(\u001b[0m\u001b[0mvalues\u001b[0m\u001b[0;34m,\u001b[0m \u001b[0maxis\u001b[0m\u001b[0;34m=\u001b[0m\u001b[0maxis\u001b[0m\u001b[0;34m,\u001b[0m \u001b[0mskipna\u001b[0m\u001b[0;34m=\u001b[0m\u001b[0mskipna\u001b[0m\u001b[0;34m,\u001b[0m \u001b[0;34m**\u001b[0m\u001b[0mkwds\u001b[0m\u001b[0;34m)\u001b[0m\u001b[0;34m\u001b[0m\u001b[0;34m\u001b[0m\u001b[0m\n\u001b[0m\u001b[1;32m  11482\u001b[0m \u001b[0;34m\u001b[0m\u001b[0m\n\u001b[1;32m  11483\u001b[0m         \u001b[0;32mdef\u001b[0m \u001b[0m_get_data\u001b[0m\u001b[0;34m(\u001b[0m\u001b[0;34m)\u001b[0m \u001b[0;34m->\u001b[0m \u001b[0mDataFrame\u001b[0m\u001b[0;34m:\u001b[0m\u001b[0;34m\u001b[0m\u001b[0;34m\u001b[0m\u001b[0m\n",
            "\u001b[0;32m/usr/local/lib/python3.12/dist-packages/pandas/core/nanops.py\u001b[0m in \u001b[0;36mf\u001b[0;34m(values, axis, skipna, **kwds)\u001b[0m\n\u001b[1;32m    145\u001b[0m                     \u001b[0mresult\u001b[0m \u001b[0;34m=\u001b[0m \u001b[0malt\u001b[0m\u001b[0;34m(\u001b[0m\u001b[0mvalues\u001b[0m\u001b[0;34m,\u001b[0m \u001b[0maxis\u001b[0m\u001b[0;34m=\u001b[0m\u001b[0maxis\u001b[0m\u001b[0;34m,\u001b[0m \u001b[0mskipna\u001b[0m\u001b[0;34m=\u001b[0m\u001b[0mskipna\u001b[0m\u001b[0;34m,\u001b[0m \u001b[0;34m**\u001b[0m\u001b[0mkwds\u001b[0m\u001b[0;34m)\u001b[0m\u001b[0;34m\u001b[0m\u001b[0;34m\u001b[0m\u001b[0m\n\u001b[1;32m    146\u001b[0m             \u001b[0;32melse\u001b[0m\u001b[0;34m:\u001b[0m\u001b[0;34m\u001b[0m\u001b[0;34m\u001b[0m\u001b[0m\n\u001b[0;32m--> 147\u001b[0;31m                 \u001b[0mresult\u001b[0m \u001b[0;34m=\u001b[0m \u001b[0malt\u001b[0m\u001b[0;34m(\u001b[0m\u001b[0mvalues\u001b[0m\u001b[0;34m,\u001b[0m \u001b[0maxis\u001b[0m\u001b[0;34m=\u001b[0m\u001b[0maxis\u001b[0m\u001b[0;34m,\u001b[0m \u001b[0mskipna\u001b[0m\u001b[0;34m=\u001b[0m\u001b[0mskipna\u001b[0m\u001b[0;34m,\u001b[0m \u001b[0;34m**\u001b[0m\u001b[0mkwds\u001b[0m\u001b[0;34m)\u001b[0m\u001b[0;34m\u001b[0m\u001b[0;34m\u001b[0m\u001b[0m\n\u001b[0m\u001b[1;32m    148\u001b[0m \u001b[0;34m\u001b[0m\u001b[0m\n\u001b[1;32m    149\u001b[0m             \u001b[0;32mreturn\u001b[0m \u001b[0mresult\u001b[0m\u001b[0;34m\u001b[0m\u001b[0;34m\u001b[0m\u001b[0m\n",
            "\u001b[0;32m/usr/local/lib/python3.12/dist-packages/pandas/core/nanops.py\u001b[0m in \u001b[0;36mnew_func\u001b[0;34m(values, axis, skipna, mask, **kwargs)\u001b[0m\n\u001b[1;32m    402\u001b[0m             \u001b[0mmask\u001b[0m \u001b[0;34m=\u001b[0m \u001b[0misna\u001b[0m\u001b[0;34m(\u001b[0m\u001b[0mvalues\u001b[0m\u001b[0;34m)\u001b[0m\u001b[0;34m\u001b[0m\u001b[0;34m\u001b[0m\u001b[0m\n\u001b[1;32m    403\u001b[0m \u001b[0;34m\u001b[0m\u001b[0m\n\u001b[0;32m--> 404\u001b[0;31m         \u001b[0mresult\u001b[0m \u001b[0;34m=\u001b[0m \u001b[0mfunc\u001b[0m\u001b[0;34m(\u001b[0m\u001b[0mvalues\u001b[0m\u001b[0;34m,\u001b[0m \u001b[0maxis\u001b[0m\u001b[0;34m=\u001b[0m\u001b[0maxis\u001b[0m\u001b[0;34m,\u001b[0m \u001b[0mskipna\u001b[0m\u001b[0;34m=\u001b[0m\u001b[0mskipna\u001b[0m\u001b[0;34m,\u001b[0m \u001b[0mmask\u001b[0m\u001b[0;34m=\u001b[0m\u001b[0mmask\u001b[0m\u001b[0;34m,\u001b[0m \u001b[0;34m**\u001b[0m\u001b[0mkwargs\u001b[0m\u001b[0;34m)\u001b[0m\u001b[0;34m\u001b[0m\u001b[0;34m\u001b[0m\u001b[0m\n\u001b[0m\u001b[1;32m    405\u001b[0m \u001b[0;34m\u001b[0m\u001b[0m\n\u001b[1;32m    406\u001b[0m         \u001b[0;32mif\u001b[0m \u001b[0mdatetimelike\u001b[0m\u001b[0;34m:\u001b[0m\u001b[0;34m\u001b[0m\u001b[0;34m\u001b[0m\u001b[0m\n",
            "\u001b[0;32m/usr/local/lib/python3.12/dist-packages/pandas/core/nanops.py\u001b[0m in \u001b[0;36mnanmean\u001b[0;34m(values, axis, skipna, mask)\u001b[0m\n\u001b[1;32m    718\u001b[0m     \u001b[0mcount\u001b[0m \u001b[0;34m=\u001b[0m \u001b[0m_get_counts\u001b[0m\u001b[0;34m(\u001b[0m\u001b[0mvalues\u001b[0m\u001b[0;34m.\u001b[0m\u001b[0mshape\u001b[0m\u001b[0;34m,\u001b[0m \u001b[0mmask\u001b[0m\u001b[0;34m,\u001b[0m \u001b[0maxis\u001b[0m\u001b[0;34m,\u001b[0m \u001b[0mdtype\u001b[0m\u001b[0;34m=\u001b[0m\u001b[0mdtype_count\u001b[0m\u001b[0;34m)\u001b[0m\u001b[0;34m\u001b[0m\u001b[0;34m\u001b[0m\u001b[0m\n\u001b[1;32m    719\u001b[0m     \u001b[0mthe_sum\u001b[0m \u001b[0;34m=\u001b[0m \u001b[0mvalues\u001b[0m\u001b[0;34m.\u001b[0m\u001b[0msum\u001b[0m\u001b[0;34m(\u001b[0m\u001b[0maxis\u001b[0m\u001b[0;34m,\u001b[0m \u001b[0mdtype\u001b[0m\u001b[0;34m=\u001b[0m\u001b[0mdtype_sum\u001b[0m\u001b[0;34m)\u001b[0m\u001b[0;34m\u001b[0m\u001b[0;34m\u001b[0m\u001b[0m\n\u001b[0;32m--> 720\u001b[0;31m     \u001b[0mthe_sum\u001b[0m \u001b[0;34m=\u001b[0m \u001b[0m_ensure_numeric\u001b[0m\u001b[0;34m(\u001b[0m\u001b[0mthe_sum\u001b[0m\u001b[0;34m)\u001b[0m\u001b[0;34m\u001b[0m\u001b[0;34m\u001b[0m\u001b[0m\n\u001b[0m\u001b[1;32m    721\u001b[0m \u001b[0;34m\u001b[0m\u001b[0m\n\u001b[1;32m    722\u001b[0m     \u001b[0;32mif\u001b[0m \u001b[0maxis\u001b[0m \u001b[0;32mis\u001b[0m \u001b[0;32mnot\u001b[0m \u001b[0;32mNone\u001b[0m \u001b[0;32mand\u001b[0m \u001b[0mgetattr\u001b[0m\u001b[0;34m(\u001b[0m\u001b[0mthe_sum\u001b[0m\u001b[0;34m,\u001b[0m \u001b[0;34m\"ndim\"\u001b[0m\u001b[0;34m,\u001b[0m \u001b[0;32mFalse\u001b[0m\u001b[0;34m)\u001b[0m\u001b[0;34m:\u001b[0m\u001b[0;34m\u001b[0m\u001b[0;34m\u001b[0m\u001b[0m\n",
            "\u001b[0;32m/usr/local/lib/python3.12/dist-packages/pandas/core/nanops.py\u001b[0m in \u001b[0;36m_ensure_numeric\u001b[0;34m(x)\u001b[0m\n\u001b[1;32m   1684\u001b[0m             \u001b[0;32mif\u001b[0m \u001b[0minferred\u001b[0m \u001b[0;32min\u001b[0m \u001b[0;34m[\u001b[0m\u001b[0;34m\"string\"\u001b[0m\u001b[0;34m,\u001b[0m \u001b[0;34m\"mixed\"\u001b[0m\u001b[0;34m]\u001b[0m\u001b[0;34m:\u001b[0m\u001b[0;34m\u001b[0m\u001b[0;34m\u001b[0m\u001b[0m\n\u001b[1;32m   1685\u001b[0m                 \u001b[0;31m# GH#44008, GH#36703 avoid casting e.g. strings to numeric\u001b[0m\u001b[0;34m\u001b[0m\u001b[0;34m\u001b[0m\u001b[0m\n\u001b[0;32m-> 1686\u001b[0;31m                 \u001b[0;32mraise\u001b[0m \u001b[0mTypeError\u001b[0m\u001b[0;34m(\u001b[0m\u001b[0;34mf\"Could not convert {x} to numeric\"\u001b[0m\u001b[0;34m)\u001b[0m\u001b[0;34m\u001b[0m\u001b[0;34m\u001b[0m\u001b[0m\n\u001b[0m\u001b[1;32m   1687\u001b[0m             \u001b[0;32mtry\u001b[0m\u001b[0;34m:\u001b[0m\u001b[0;34m\u001b[0m\u001b[0;34m\u001b[0m\u001b[0m\n\u001b[1;32m   1688\u001b[0m                 \u001b[0mx\u001b[0m \u001b[0;34m=\u001b[0m \u001b[0mx\u001b[0m\u001b[0;34m.\u001b[0m\u001b[0mastype\u001b[0m\u001b[0;34m(\u001b[0m\u001b[0mnp\u001b[0m\u001b[0;34m.\u001b[0m\u001b[0mcomplex128\u001b[0m\u001b[0;34m)\u001b[0m\u001b[0;34m\u001b[0m\u001b[0;34m\u001b[0m\u001b[0m\n",
            "\u001b[0;31mTypeError\u001b[0m: Could not convert ['Bad Putting Posture HunchedBad Putting Posture HunchedBad Putting Posture StraightBad Putting Posture StraightaddresstopcontactaddresstopcontactaddresstopcontactBad Near To BalladdresstopcontactBad Near To BallBad Near To BalladdresstopcontactBad Straight BodyBad Straight BodyaddresstopcontactBad Straight BodyBad Straight BodyBad Straight BodyBad Straight BodyBad Straight BodyBad Straight BodyBad Straight BodyBad Straight BodyBad Straight BodyBad Straight BodyBad Straight BodyBad Straight BodyaddresstopcontactaddresstopcontactaddresstopcontactBad Knee PostureBad Knee PostureBad Knee PostureBad Knee PostureBad Knee PostureBad Knee PostureBad Knee PostureBad Knee PostureBad Knee PostureBad Knee Postureaddresstopcontactaddresstopcontactaddresstopcontactaddresstopcontactaddresstopcontactaddresstopcontactaddresstopcontactaddresstopcontactaddresstopcontactaddresstopcontactaddresstopcontactaddresstopcontactaddresstopcontactaddresstopcontactaddresstopcontactaddresstopcontactaddresstopcontactaddresstopcontactaddresstopcontactaddresstopcontactaddresstopcontactaddresstopcontactaddresstopcontactaddresstopcontactaddresstopcontactaddresstopcontactaddresstopcontactaddresstopcontactaddresstopcontactaddresstopcontactaddresstopcontactaddresstopcontactaddresstopcontactaddresstopcontactaddresstopcontactaddresstopcontactaddresstopcontactaddresstopcontactaddresstopcontactaddresstopcontactaddresstopcontactaddresstopcontactaddresstopcontactaddresstopconta..."
          ]
        }
      ]
    },
    {
      "cell_type": "code",
      "source": [],
      "metadata": {
        "id": "9yntq6II-jz4"
      },
      "execution_count": null,
      "outputs": []
    }
  ]
}